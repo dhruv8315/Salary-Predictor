{
 "cells": [
  {
   "cell_type": "markdown",
   "id": "a96797a7-0ccd-49f9-9aae-caae5ec4fe19",
   "metadata": {},
   "source": [
    "# Data Science Job Salary Prediction\n",
    "\n",
    "## 1. Looking at Big Picture\n",
    "\n",
    "### Problem Statement\n",
    "The goal for a machine learning perspective would be to perform exploratory data analysis (EDA) on the dataset to identify patterns and relationships that could be valuable for building predictive models. This could involve understanding how different features such as job title, experience level, and company size correlate with salaries. Additionally, preprocessing steps like handling missing data and encoding categorical variables might be necessary. The ultimate objective could be to develop a machine learning model that predicts data science job salaries based on the provided features.\n",
    "\n",
    "### About Dataset\n",
    "salaries.csv contains a single table with all salary information structured as follows:\n",
    "\n",
    "- work_year: The year the salary was paid.\n",
    "\n",
    "- job_title: The role worked in during the year.\n",
    "\n",
    "- salary_currency: The currency of the salary paid as an ISO 4217 currency code.\n",
    "\n",
    "- salary: The total gross salary amount paid.\n",
    "\n",
    "- salary_in_usd: The salary in USD (FX rate divided by avg. USD rate of respective year) via statistical data from the BIS and central banks.\n",
    "\n",
    "- employee_residence: Employee's primary country of residence in during the work year as an ISO 3166 country code.\n",
    "\n",
    "- experience_level: The experience level in the job during the year with the following possible values: EN Entry-level / Junior, MI Mid-level / Intermediate, SE Senior-level / Expert, EX Executive-level / Director\n",
    "\n",
    "- employment_type: The type of employment for the role:\n",
    "PT Part-time\n",
    "FT Full-time\n",
    "CT Contract\n",
    "FL Freelance\n",
    "\n",
    "- remote_ratio: The overall amount of work done remotely, possible values are as follows:\n",
    "0\n",
    "No remote work (less than 20%)\n",
    "50\n",
    "Partially remote/hybrid\n",
    "100\n",
    "Fully remote (more than 80%)\n",
    "\n",
    "- company_location: The country of the employer's main office or contracting branch as an ISO 3166 country code.\n",
    "\n",
    "- company_size: The average number of people that worked for the company during the year:\n",
    "S\n",
    "less than 50 employees (small)\n",
    "M\n",
    "50 to 250 employees (medium)\n",
    "L\n",
    "more than 250 employees (large)\n",
    "## Big Picture \n",
    "It is a supervised learning task, we will train different regression models to find patterns in the given data. We will be using batch learning because our dataset is small and there is no continuous flow of data coming into the system. So we do not need to adjust to changing data rapidly."
   ]
  },
  {
   "cell_type": "markdown",
   "id": "d4933821-ea3d-4b1e-9dd6-0957f714f302",
   "metadata": {},
   "source": [
    "## 2. Get the Data"
   ]
  },
  {
   "cell_type": "code",
   "execution_count": 1,
   "id": "63aa67f1-5acf-4275-9ff1-a9860b2bc5a8",
   "metadata": {
    "ExecuteTime": {
     "end_time": "2024-04-28T19:18:50.466381400Z",
     "start_time": "2024-04-28T19:18:50.366945200Z"
    }
   },
   "outputs": [],
   "source": [
    "import pandas as pd\n",
    "import numpy as np\n",
    "import matplotlib.pyplot as plt\n",
    "import seaborn as sns\n",
    "import sklearn\n",
    "import plotly_express as px\n",
    "import country_converter as coco"
   ]
  },
  {
   "cell_type": "code",
   "execution_count": 2,
   "id": "57affd81-ee4f-4b5f-8ef9-f824356f04e3",
   "metadata": {
    "ExecuteTime": {
     "end_time": "2024-04-28T19:18:50.654022400Z",
     "start_time": "2024-04-28T19:18:50.377180700Z"
    },
    "jp-MarkdownHeadingCollapsed": true
   },
   "outputs": [
    {
     "data": {
      "text/html": [
       "<div>\n",
       "<style scoped>\n",
       "    .dataframe tbody tr th:only-of-type {\n",
       "        vertical-align: middle;\n",
       "    }\n",
       "\n",
       "    .dataframe tbody tr th {\n",
       "        vertical-align: top;\n",
       "    }\n",
       "\n",
       "    .dataframe thead th {\n",
       "        text-align: right;\n",
       "    }\n",
       "</style>\n",
       "<table border=\"1\" class=\"dataframe\">\n",
       "  <thead>\n",
       "    <tr style=\"text-align: right;\">\n",
       "      <th></th>\n",
       "      <th>work_year</th>\n",
       "      <th>experience_level</th>\n",
       "      <th>employment_type</th>\n",
       "      <th>job_title</th>\n",
       "      <th>salary</th>\n",
       "      <th>salary_currency</th>\n",
       "      <th>salary_in_usd</th>\n",
       "      <th>employee_residence</th>\n",
       "      <th>remote_ratio</th>\n",
       "      <th>company_location</th>\n",
       "      <th>company_size</th>\n",
       "    </tr>\n",
       "  </thead>\n",
       "  <tbody>\n",
       "    <tr>\n",
       "      <th>0</th>\n",
       "      <td>2024</td>\n",
       "      <td>EN</td>\n",
       "      <td>FT</td>\n",
       "      <td>Data Scientist</td>\n",
       "      <td>198600</td>\n",
       "      <td>USD</td>\n",
       "      <td>198600</td>\n",
       "      <td>US</td>\n",
       "      <td>0</td>\n",
       "      <td>US</td>\n",
       "      <td>M</td>\n",
       "    </tr>\n",
       "    <tr>\n",
       "      <th>1</th>\n",
       "      <td>2024</td>\n",
       "      <td>EN</td>\n",
       "      <td>FT</td>\n",
       "      <td>Data Scientist</td>\n",
       "      <td>94300</td>\n",
       "      <td>USD</td>\n",
       "      <td>94300</td>\n",
       "      <td>US</td>\n",
       "      <td>0</td>\n",
       "      <td>US</td>\n",
       "      <td>M</td>\n",
       "    </tr>\n",
       "    <tr>\n",
       "      <th>2</th>\n",
       "      <td>2024</td>\n",
       "      <td>SE</td>\n",
       "      <td>FT</td>\n",
       "      <td>Data Science</td>\n",
       "      <td>135800</td>\n",
       "      <td>USD</td>\n",
       "      <td>135800</td>\n",
       "      <td>US</td>\n",
       "      <td>100</td>\n",
       "      <td>US</td>\n",
       "      <td>M</td>\n",
       "    </tr>\n",
       "    <tr>\n",
       "      <th>3</th>\n",
       "      <td>2024</td>\n",
       "      <td>SE</td>\n",
       "      <td>FT</td>\n",
       "      <td>Data Science</td>\n",
       "      <td>95100</td>\n",
       "      <td>USD</td>\n",
       "      <td>95100</td>\n",
       "      <td>US</td>\n",
       "      <td>100</td>\n",
       "      <td>US</td>\n",
       "      <td>M</td>\n",
       "    </tr>\n",
       "    <tr>\n",
       "      <th>4</th>\n",
       "      <td>2024</td>\n",
       "      <td>EN</td>\n",
       "      <td>FT</td>\n",
       "      <td>Data Science</td>\n",
       "      <td>86900</td>\n",
       "      <td>USD</td>\n",
       "      <td>86900</td>\n",
       "      <td>US</td>\n",
       "      <td>100</td>\n",
       "      <td>US</td>\n",
       "      <td>M</td>\n",
       "    </tr>\n",
       "  </tbody>\n",
       "</table>\n",
       "</div>"
      ],
      "text/plain": [
       "   work_year experience_level employment_type       job_title  salary  \\\n",
       "0       2024               EN              FT  Data Scientist  198600   \n",
       "1       2024               EN              FT  Data Scientist   94300   \n",
       "2       2024               SE              FT    Data Science  135800   \n",
       "3       2024               SE              FT    Data Science   95100   \n",
       "4       2024               EN              FT    Data Science   86900   \n",
       "\n",
       "  salary_currency  salary_in_usd employee_residence  remote_ratio  \\\n",
       "0             USD         198600                 US             0   \n",
       "1             USD          94300                 US             0   \n",
       "2             USD         135800                 US           100   \n",
       "3             USD          95100                 US           100   \n",
       "4             USD          86900                 US           100   \n",
       "\n",
       "  company_location company_size  \n",
       "0               US            M  \n",
       "1               US            M  \n",
       "2               US            M  \n",
       "3               US            M  \n",
       "4               US            M  "
      ]
     },
     "execution_count": 2,
     "metadata": {},
     "output_type": "execute_result"
    }
   ],
   "source": [
    "df = pd.read_csv(\"https://raw.githubusercontent.com/dhruv8315/Salary-Predictor/main/salaries.csv\")\n",
    "df.head()"
   ]
  },
  {
   "cell_type": "markdown",
   "id": "518580c4-0f67-4cdd-b5de-b0e081b99002",
   "metadata": {},
   "source": [
    "## 3.Explore and visualize the data to gain insights.\n",
    "\n",
    "### Getting information from the Dataset"
   ]
  },
  {
   "cell_type": "code",
   "execution_count": 3,
   "id": "8123839a-9c3d-47b7-9f93-0cfec8e5b538",
   "metadata": {
    "ExecuteTime": {
     "end_time": "2024-04-28T19:18:50.654022400Z",
     "start_time": "2024-04-28T19:18:50.498019600Z"
    }
   },
   "outputs": [
    {
     "data": {
      "text/plain": [
       "(16965, 11)"
      ]
     },
     "execution_count": 3,
     "metadata": {},
     "output_type": "execute_result"
    }
   ],
   "source": [
    "df.shape"
   ]
  },
  {
   "cell_type": "code",
   "execution_count": 4,
   "id": "e6465026-a0c3-41e2-af67-455e5b287cf2",
   "metadata": {
    "ExecuteTime": {
     "end_time": "2024-04-28T19:18:50.655023100Z",
     "start_time": "2024-04-28T19:18:50.513221200Z"
    }
   },
   "outputs": [
    {
     "data": {
      "text/plain": [
       "Index(['work_year', 'experience_level', 'employment_type', 'job_title',\n",
       "       'salary', 'salary_currency', 'salary_in_usd', 'employee_residence',\n",
       "       'remote_ratio', 'company_location', 'company_size'],\n",
       "      dtype='object')"
      ]
     },
     "execution_count": 4,
     "metadata": {},
     "output_type": "execute_result"
    }
   ],
   "source": [
    "df.columns"
   ]
  },
  {
   "cell_type": "code",
   "execution_count": 5,
   "id": "01f58a8b-003d-4182-b265-0e00a122cec6",
   "metadata": {
    "ExecuteTime": {
     "end_time": "2024-04-28T19:18:50.655023100Z",
     "start_time": "2024-04-28T19:18:50.529574600Z"
    }
   },
   "outputs": [
    {
     "data": {
      "text/plain": [
       "work_year             0\n",
       "experience_level      0\n",
       "employment_type       0\n",
       "job_title             0\n",
       "salary                0\n",
       "salary_currency       0\n",
       "salary_in_usd         0\n",
       "employee_residence    0\n",
       "remote_ratio          0\n",
       "company_location      0\n",
       "company_size          0\n",
       "dtype: int64"
      ]
     },
     "execution_count": 5,
     "metadata": {},
     "output_type": "execute_result"
    }
   ],
   "source": [
    "df.isnull().sum()"
   ]
  },
  {
   "cell_type": "code",
   "execution_count": 6,
   "id": "89f6a3bd-2a92-4f4b-ae45-c51ce2e30e20",
   "metadata": {
    "ExecuteTime": {
     "end_time": "2024-04-28T19:18:50.656113500Z",
     "start_time": "2024-04-28T19:18:50.559844600Z"
    }
   },
   "outputs": [
    {
     "name": "stdout",
     "output_type": "stream",
     "text": [
      "<class 'pandas.core.frame.DataFrame'>\n",
      "RangeIndex: 16965 entries, 0 to 16964\n",
      "Data columns (total 11 columns):\n",
      " #   Column              Non-Null Count  Dtype \n",
      "---  ------              --------------  ----- \n",
      " 0   work_year           16965 non-null  int64 \n",
      " 1   experience_level    16965 non-null  object\n",
      " 2   employment_type     16965 non-null  object\n",
      " 3   job_title           16965 non-null  object\n",
      " 4   salary              16965 non-null  int64 \n",
      " 5   salary_currency     16965 non-null  object\n",
      " 6   salary_in_usd       16965 non-null  int64 \n",
      " 7   employee_residence  16965 non-null  object\n",
      " 8   remote_ratio        16965 non-null  int64 \n",
      " 9   company_location    16965 non-null  object\n",
      " 10  company_size        16965 non-null  object\n",
      "dtypes: int64(4), object(7)\n",
      "memory usage: 1.4+ MB\n"
     ]
    }
   ],
   "source": [
    "df.info()"
   ]
  },
  {
   "cell_type": "code",
   "execution_count": 7,
   "id": "1abcbafd-54ac-4de3-ba2d-5df45b04c8bb",
   "metadata": {
    "ExecuteTime": {
     "end_time": "2024-04-28T19:18:50.657117400Z",
     "start_time": "2024-04-28T19:18:50.591845600Z"
    }
   },
   "outputs": [
    {
     "data": {
      "text/html": [
       "<div>\n",
       "<style scoped>\n",
       "    .dataframe tbody tr th:only-of-type {\n",
       "        vertical-align: middle;\n",
       "    }\n",
       "\n",
       "    .dataframe tbody tr th {\n",
       "        vertical-align: top;\n",
       "    }\n",
       "\n",
       "    .dataframe thead th {\n",
       "        text-align: right;\n",
       "    }\n",
       "</style>\n",
       "<table border=\"1\" class=\"dataframe\">\n",
       "  <thead>\n",
       "    <tr style=\"text-align: right;\">\n",
       "      <th></th>\n",
       "      <th>work_year</th>\n",
       "      <th>salary</th>\n",
       "      <th>salary_in_usd</th>\n",
       "      <th>remote_ratio</th>\n",
       "    </tr>\n",
       "  </thead>\n",
       "  <tbody>\n",
       "    <tr>\n",
       "      <th>count</th>\n",
       "      <td>16965.000000</td>\n",
       "      <td>1.696500e+04</td>\n",
       "      <td>16965.000000</td>\n",
       "      <td>16965.000000</td>\n",
       "    </tr>\n",
       "    <tr>\n",
       "      <th>mean</th>\n",
       "      <td>2023.246508</td>\n",
       "      <td>1.636512e+05</td>\n",
       "      <td>149855.117654</td>\n",
       "      <td>31.626879</td>\n",
       "    </tr>\n",
       "    <tr>\n",
       "      <th>std</th>\n",
       "      <td>0.714863</td>\n",
       "      <td>3.363781e+05</td>\n",
       "      <td>68575.229960</td>\n",
       "      <td>46.107055</td>\n",
       "    </tr>\n",
       "    <tr>\n",
       "      <th>min</th>\n",
       "      <td>2020.000000</td>\n",
       "      <td>1.400000e+04</td>\n",
       "      <td>15000.000000</td>\n",
       "      <td>0.000000</td>\n",
       "    </tr>\n",
       "    <tr>\n",
       "      <th>25%</th>\n",
       "      <td>2023.000000</td>\n",
       "      <td>1.020000e+05</td>\n",
       "      <td>101520.000000</td>\n",
       "      <td>0.000000</td>\n",
       "    </tr>\n",
       "    <tr>\n",
       "      <th>50%</th>\n",
       "      <td>2023.000000</td>\n",
       "      <td>1.422000e+05</td>\n",
       "      <td>141300.000000</td>\n",
       "      <td>0.000000</td>\n",
       "    </tr>\n",
       "    <tr>\n",
       "      <th>75%</th>\n",
       "      <td>2024.000000</td>\n",
       "      <td>1.880000e+05</td>\n",
       "      <td>186000.000000</td>\n",
       "      <td>100.000000</td>\n",
       "    </tr>\n",
       "    <tr>\n",
       "      <th>max</th>\n",
       "      <td>2024.000000</td>\n",
       "      <td>3.040000e+07</td>\n",
       "      <td>800000.000000</td>\n",
       "      <td>100.000000</td>\n",
       "    </tr>\n",
       "  </tbody>\n",
       "</table>\n",
       "</div>"
      ],
      "text/plain": [
       "          work_year        salary  salary_in_usd  remote_ratio\n",
       "count  16965.000000  1.696500e+04   16965.000000  16965.000000\n",
       "mean    2023.246508  1.636512e+05  149855.117654     31.626879\n",
       "std        0.714863  3.363781e+05   68575.229960     46.107055\n",
       "min     2020.000000  1.400000e+04   15000.000000      0.000000\n",
       "25%     2023.000000  1.020000e+05  101520.000000      0.000000\n",
       "50%     2023.000000  1.422000e+05  141300.000000      0.000000\n",
       "75%     2024.000000  1.880000e+05  186000.000000    100.000000\n",
       "max     2024.000000  3.040000e+07  800000.000000    100.000000"
      ]
     },
     "execution_count": 7,
     "metadata": {},
     "output_type": "execute_result"
    }
   ],
   "source": [
    "df.describe()"
   ]
  },
  {
   "cell_type": "code",
   "execution_count": 8,
   "id": "4a6a95e9-8536-4093-9828-d5352bee7b84",
   "metadata": {
    "ExecuteTime": {
     "end_time": "2024-04-28T19:18:51.301502500Z",
     "start_time": "2024-04-28T19:18:50.623843400Z"
    }
   },
   "outputs": [
    {
     "data": {
      "image/png": "[encoded data removed]",
      "text/plain": [
       "<Figure size 2400x1600 with 4 Axes>"
      ]
     },
     "metadata": {},
     "output_type": "display_data"
    }
   ],
   "source": [
    "df.hist(figsize=(24,16))\n",
    "plt.show()"
   ]
  },
  {
   "cell_type": "code",
   "execution_count": 9,
   "id": "d10b47a1-467b-4704-8178-90fbeeb65f62",
   "metadata": {
    "ExecuteTime": {
     "end_time": "2024-04-28T19:18:51.604020600Z",
     "start_time": "2024-04-28T19:18:51.304477900Z"
    }
   },
   "outputs": [
    {
     "data": {
      "text/html": [
       "<div>\n",
       "<style scoped>\n",
       "    .dataframe tbody tr th:only-of-type {\n",
       "        vertical-align: middle;\n",
       "    }\n",
       "\n",
       "    .dataframe tbody tr th {\n",
       "        vertical-align: top;\n",
       "    }\n",
       "\n",
       "    .dataframe thead th {\n",
       "        text-align: right;\n",
       "    }\n",
       "</style>\n",
       "<table border=\"1\" class=\"dataframe\">\n",
       "  <thead>\n",
       "    <tr style=\"text-align: right;\">\n",
       "      <th></th>\n",
       "      <th>work_year</th>\n",
       "      <th>salary_in_usd</th>\n",
       "    </tr>\n",
       "  </thead>\n",
       "  <tbody>\n",
       "    <tr>\n",
       "      <th>0</th>\n",
       "      <td>2024</td>\n",
       "      <td>198600</td>\n",
       "    </tr>\n",
       "    <tr>\n",
       "      <th>1</th>\n",
       "      <td>2024</td>\n",
       "      <td>94300</td>\n",
       "    </tr>\n",
       "    <tr>\n",
       "      <th>2</th>\n",
       "      <td>2024</td>\n",
       "      <td>135800</td>\n",
       "    </tr>\n",
       "    <tr>\n",
       "      <th>3</th>\n",
       "      <td>2024</td>\n",
       "      <td>95100</td>\n",
       "    </tr>\n",
       "    <tr>\n",
       "      <th>4</th>\n",
       "      <td>2024</td>\n",
       "      <td>86900</td>\n",
       "    </tr>\n",
       "    <tr>\n",
       "      <th>...</th>\n",
       "      <td>...</td>\n",
       "      <td>...</td>\n",
       "    </tr>\n",
       "    <tr>\n",
       "      <th>16960</th>\n",
       "      <td>2020</td>\n",
       "      <td>412000</td>\n",
       "    </tr>\n",
       "    <tr>\n",
       "      <th>16961</th>\n",
       "      <td>2021</td>\n",
       "      <td>151000</td>\n",
       "    </tr>\n",
       "    <tr>\n",
       "      <th>16962</th>\n",
       "      <td>2020</td>\n",
       "      <td>105000</td>\n",
       "    </tr>\n",
       "    <tr>\n",
       "      <th>16963</th>\n",
       "      <td>2020</td>\n",
       "      <td>100000</td>\n",
       "    </tr>\n",
       "    <tr>\n",
       "      <th>16964</th>\n",
       "      <td>2021</td>\n",
       "      <td>94665</td>\n",
       "    </tr>\n",
       "  </tbody>\n",
       "</table>\n",
       "<p>16965 rows × 2 columns</p>\n",
       "</div>"
      ],
      "text/plain": [
       "       work_year  salary_in_usd\n",
       "0           2024         198600\n",
       "1           2024          94300\n",
       "2           2024         135800\n",
       "3           2024          95100\n",
       "4           2024          86900\n",
       "...          ...            ...\n",
       "16960       2020         412000\n",
       "16961       2021         151000\n",
       "16962       2020         105000\n",
       "16963       2020         100000\n",
       "16964       2021          94665\n",
       "\n",
       "[16965 rows x 2 columns]"
      ]
     },
     "execution_count": 9,
     "metadata": {},
     "output_type": "execute_result"
    }
   ],
   "source": [
    "df[['work_year','salary_in_usd']]"
   ]
  },
  {
   "cell_type": "code",
   "execution_count": 10,
   "id": "675b62da-7ed7-4efa-bfbe-5ed3cedfd75c",
   "metadata": {
    "ExecuteTime": {
     "end_time": "2024-04-28T19:18:51.605019800Z",
     "start_time": "2024-04-28T19:18:51.318956400Z"
    }
   },
   "outputs": [
    {
     "data": {
      "text/plain": [
       "<Axes: xlabel='work_year', ylabel='count'>"
      ]
     },
     "execution_count": 10,
     "metadata": {},
     "output_type": "execute_result"
    },
    {
     "data": {
      "image/png": "[encoded data removed]",
      "text/plain": [
       "<Figure size 640x480 with 1 Axes>"
      ]
     },
     "metadata": {},
     "output_type": "display_data"
    }
   ],
   "source": [
    "sns.countplot(data=df,x='work_year',palette='viridis')"
   ]
  },
  {
   "cell_type": "markdown",
   "id": "ee9768d3-859f-4cd5-b403-5754c83727f9",
   "metadata": {},
   "source": [
    "### Exploring the job titles\n",
    "<strong>Top 10 job titles</strong>"
   ]
  },
  {
   "cell_type": "code",
   "execution_count": 11,
   "id": "03ddd221-0028-491e-a295-0e0c277a54b5",
   "metadata": {
    "ExecuteTime": {
     "end_time": "2024-04-28T19:18:51.605019800Z",
     "start_time": "2024-04-28T19:18:51.446060200Z"
    }
   },
   "outputs": [
    {
     "data": {
      "text/plain": [
       "job_title\n",
       "Data Engineer                3534\n",
       "Data Scientist               3392\n",
       "Data Analyst                 2500\n",
       "Machine Learning Engineer    1731\n",
       "Research Scientist            559\n",
       "Data Architect                457\n",
       "Applied Scientist             457\n",
       "Analytics Engineer            433\n",
       "Research Engineer             316\n",
       "Data Science                  295\n",
       "Name: count, dtype: int64"
      ]
     },
     "execution_count": 11,
     "metadata": {},
     "output_type": "execute_result"
    }
   ],
   "source": [
    "# top 10 job titles\n",
    "job_titles = df['job_title'].value_counts()\n",
    "top_job_titles = job_titles.nlargest(10)\n",
    "top_job_titles"
   ]
  },
  {
   "cell_type": "code",
   "execution_count": 12,
   "id": "42fe3138-fd9e-4ae2-b7cd-3849a53cf812",
   "metadata": {
    "ExecuteTime": {
     "end_time": "2024-04-28T19:18:51.776647200Z",
     "start_time": "2024-04-28T19:18:51.466328Z"
    }
   },
   "outputs": [
    {
     "data": {
      "image/png": "[encoded data removed]",
      "text/plain": [
       "<Figure size 1000x600 with 1 Axes>"
      ]
     },
     "metadata": {},
     "output_type": "display_data"
    }
   ],
   "source": [
    "# plotting top 10 job titles\n",
    "plt.figure(figsize=(10,6))\n",
    "sns.barplot(x=top_job_titles.index, y=top_job_titles.values, palette='viridis')\n",
    "plt.title(\"Top 10 job titles\")\n",
    "plt.xlabel(\"Job titles\")\n",
    "plt.ylabel(\"Count\")\n",
    "plt.xticks(rotation=45,ha='right')\n",
    "plt.tight_layout()\n",
    "plt.show()"
   ]
  },
  {
   "cell_type": "markdown",
   "id": "82ef59f5-3bb1-493b-8e36-310b2b93e7f6",
   "metadata": {},
   "source": [
    "<strong>Top 10 Highest Paying Jobs</strong>"
   ]
  },
  {
   "cell_type": "code",
   "execution_count": 13,
   "id": "f3c0e89c-5d64-449a-84ae-5ef5cbc2ab97",
   "metadata": {
    "ExecuteTime": {
     "end_time": "2024-04-28T19:18:51.777649900Z",
     "start_time": "2024-04-28T19:18:51.658946200Z"
    }
   },
   "outputs": [
    {
     "data": {
      "text/plain": [
       "job_title\n",
       "Analytics Engineering Manager     399880.000000\n",
       "Data Science Tech Lead            375000.000000\n",
       "Head of Machine Learning          299758.428571\n",
       "Managing Director Data Science    280000.000000\n",
       "AWS Data Architect                258000.000000\n",
       "Cloud Data Architect              250000.000000\n",
       "AI Architect                      245481.393939\n",
       "Director of Data Science          218775.333333\n",
       "Head of Data                      211860.196721\n",
       "Prompt Engineer                   205093.588235\n",
       "Name: salary_in_usd, dtype: float64"
      ]
     },
     "execution_count": 13,
     "metadata": {},
     "output_type": "execute_result"
    }
   ],
   "source": [
    "# top 10 highest paying Jobs\n",
    "mean_salary_in_usd = df.groupby('job_title')['salary_in_usd'].mean().nlargest(10)\n",
    "rounded_salaries = mean_salary_in_usd.values.round(2)\n",
    "mean_salary_in_usd"
   ]
  },
  {
   "cell_type": "code",
   "execution_count": 14,
   "id": "929c66b0-dd81-4fa3-8842-57435d71c1c7",
   "metadata": {
    "ExecuteTime": {
     "end_time": "2024-04-28T19:18:51.913343700Z",
     "start_time": "2024-04-28T19:18:51.676292600Z"
    }
   },
   "outputs": [
    {
     "data": {
      "image/png": "[encoded data removed]",
      "text/plain": [
       "<Figure size 1000x600 with 1 Axes>"
      ]
     },
     "metadata": {},
     "output_type": "display_data"
    }
   ],
   "source": [
    "# plotting top 10 Highest paying job positions\n",
    "plt.figure(figsize=(10,6))\n",
    "sns.barplot(x=mean_salary_in_usd.index, y=rounded_salaries, palette='viridis')\n",
    "plt.title(\"Top 10 Highest paying job positions\")\n",
    "plt.xlabel(\"Job titles\")\n",
    "plt.ylabel(\"Salary in USD\")\n",
    "plt.xticks(rotation=45,ha='right')\n",
    "plt.tight_layout()\n",
    "plt.show()"
   ]
  },
  {
   "cell_type": "markdown",
   "id": "68eda061",
   "metadata": {},
   "source": [
    "<strong>Average salary around the world</strong>"
   ]
  },
  {
   "cell_type": "code",
   "execution_count": 15,
   "id": "9cc2bffa-17d1-40cf-ade4-b21fc2cdbf0c",
   "metadata": {
    "ExecuteTime": {
     "end_time": "2024-04-28T19:19:01.999978Z",
     "start_time": "2024-04-28T19:18:51.889074100Z"
    }
   },
   "outputs": [
    {
     "data": {
      "text/html": [
       "<div>\n",
       "<style scoped>\n",
       "    .dataframe tbody tr th:only-of-type {\n",
       "        vertical-align: middle;\n",
       "    }\n",
       "\n",
       "    .dataframe tbody tr th {\n",
       "        vertical-align: top;\n",
       "    }\n",
       "\n",
       "    .dataframe thead th {\n",
       "        text-align: right;\n",
       "    }\n",
       "</style>\n",
       "<table border=\"1\" class=\"dataframe\">\n",
       "  <thead>\n",
       "    <tr style=\"text-align: right;\">\n",
       "      <th></th>\n",
       "      <th>work_year</th>\n",
       "      <th>experience_level</th>\n",
       "      <th>employment_type</th>\n",
       "      <th>job_title</th>\n",
       "      <th>salary</th>\n",
       "      <th>salary_currency</th>\n",
       "      <th>salary_in_usd</th>\n",
       "      <th>employee_residence</th>\n",
       "      <th>remote_ratio</th>\n",
       "      <th>company_location</th>\n",
       "      <th>company_size</th>\n",
       "      <th>iso_3_employ_residence</th>\n",
       "    </tr>\n",
       "  </thead>\n",
       "  <tbody>\n",
       "    <tr>\n",
       "      <th>0</th>\n",
       "      <td>2024</td>\n",
       "      <td>EN</td>\n",
       "      <td>FT</td>\n",
       "      <td>Data Scientist</td>\n",
       "      <td>198600</td>\n",
       "      <td>USD</td>\n",
       "      <td>198600</td>\n",
       "      <td>US</td>\n",
       "      <td>0</td>\n",
       "      <td>US</td>\n",
       "      <td>M</td>\n",
       "      <td>USA</td>\n",
       "    </tr>\n",
       "    <tr>\n",
       "      <th>1</th>\n",
       "      <td>2024</td>\n",
       "      <td>EN</td>\n",
       "      <td>FT</td>\n",
       "      <td>Data Scientist</td>\n",
       "      <td>94300</td>\n",
       "      <td>USD</td>\n",
       "      <td>94300</td>\n",
       "      <td>US</td>\n",
       "      <td>0</td>\n",
       "      <td>US</td>\n",
       "      <td>M</td>\n",
       "      <td>USA</td>\n",
       "    </tr>\n",
       "    <tr>\n",
       "      <th>2</th>\n",
       "      <td>2024</td>\n",
       "      <td>SE</td>\n",
       "      <td>FT</td>\n",
       "      <td>Data Science</td>\n",
       "      <td>135800</td>\n",
       "      <td>USD</td>\n",
       "      <td>135800</td>\n",
       "      <td>US</td>\n",
       "      <td>100</td>\n",
       "      <td>US</td>\n",
       "      <td>M</td>\n",
       "      <td>USA</td>\n",
       "    </tr>\n",
       "    <tr>\n",
       "      <th>3</th>\n",
       "      <td>2024</td>\n",
       "      <td>SE</td>\n",
       "      <td>FT</td>\n",
       "      <td>Data Science</td>\n",
       "      <td>95100</td>\n",
       "      <td>USD</td>\n",
       "      <td>95100</td>\n",
       "      <td>US</td>\n",
       "      <td>100</td>\n",
       "      <td>US</td>\n",
       "      <td>M</td>\n",
       "      <td>USA</td>\n",
       "    </tr>\n",
       "    <tr>\n",
       "      <th>4</th>\n",
       "      <td>2024</td>\n",
       "      <td>EN</td>\n",
       "      <td>FT</td>\n",
       "      <td>Data Science</td>\n",
       "      <td>86900</td>\n",
       "      <td>USD</td>\n",
       "      <td>86900</td>\n",
       "      <td>US</td>\n",
       "      <td>100</td>\n",
       "      <td>US</td>\n",
       "      <td>M</td>\n",
       "      <td>USA</td>\n",
       "    </tr>\n",
       "  </tbody>\n",
       "</table>\n",
       "</div>"
      ],
      "text/plain": [
       "   work_year experience_level employment_type       job_title  salary  \\\n",
       "0       2024               EN              FT  Data Scientist  198600   \n",
       "1       2024               EN              FT  Data Scientist   94300   \n",
       "2       2024               SE              FT    Data Science  135800   \n",
       "3       2024               SE              FT    Data Science   95100   \n",
       "4       2024               EN              FT    Data Science   86900   \n",
       "\n",
       "  salary_currency  salary_in_usd employee_residence  remote_ratio  \\\n",
       "0             USD         198600                 US             0   \n",
       "1             USD          94300                 US             0   \n",
       "2             USD         135800                 US           100   \n",
       "3             USD          95100                 US           100   \n",
       "4             USD          86900                 US           100   \n",
       "\n",
       "  company_location company_size iso_3_employ_residence  \n",
       "0               US            M                    USA  \n",
       "1               US            M                    USA  \n",
       "2               US            M                    USA  \n",
       "3               US            M                    USA  \n",
       "4               US            M                    USA  "
      ]
     },
     "execution_count": 15,
     "metadata": {},
     "output_type": "execute_result"
    }
   ],
   "source": [
    "#Converting iso-3166 country codes to iso-3 country codes\n",
    "iso_3166 = df['employee_residence'].to_list()\n",
    "df['iso_3_employ_residence'] = coco.convert(names = iso_3166, src = 'ISO2', to = 'ISO3')\n",
    "df.head()\n"
   ]
  },
  {
   "cell_type": "code",
   "execution_count": 16,
   "id": "57551e2d",
   "metadata": {
    "ExecuteTime": {
     "end_time": "2024-04-28T19:19:02.112187500Z",
     "start_time": "2024-04-28T19:19:02.004980600Z"
    }
   },
   "outputs": [
    {
     "data": {
      "application/vnd.plotly.v1+json": {
       "config": {
        "plotlyServerURL": "https://plot.ly"
       },
       "data": [
        {
         "coloraxis": "coloraxis",
         "geo": "geo",
         "hovertemplate": "<b>%{hovertext}</b><br><br>iso_3_employ_residence=%{location}<br>Average Salary=%{z}<extra></extra>",
         "hovertext": [
          "AND",
          "ARE",
          "ARG",
          "ARM",
          "ASM",
          "AUS",
          "AUT",
          "BEL",
          "BGR",
          "BIH",
          "BOL",
          "BRA",
          "CAF",
          "CAN",
          "CHE",
          "CHL",
          "CHN",
          "COL",
          "CRI",
          "CYP",
          "CZE",
          "DEU",
          "DNK",
          "DOM",
          "DZA",
          "ECU",
          "EGY",
          "ESP",
          "EST",
          "FIN",
          "FRA",
          "GBR",
          "GEO",
          "GHA",
          "GRC",
          "HKG",
          "HND",
          "HRV",
          "HUN",
          "IDN",
          "IND",
          "IRL",
          "IRN",
          "IRQ",
          "ISR",
          "ITA",
          "JEY",
          "JPN",
          "KEN",
          "KOR",
          "KWT",
          "LBN",
          "LTU",
          "LUX",
          "LVA",
          "MDA",
          "MEX",
          "MLT",
          "MUS",
          "MYS",
          "NGA",
          "NLD",
          "NOR",
          "NZL",
          "OMN",
          "PAK",
          "PER",
          "PHL",
          "POL",
          "PRI",
          "PRT",
          "QAT",
          "ROU",
          "RUS",
          "SAU",
          "SGP",
          "SRB",
          "SVN",
          "SWE",
          "THA",
          "TUN",
          "TUR",
          "UGA",
          "UKR",
          "USA",
          "UZB",
          "VNM",
          "ZAF"
         ],
         "locationmode": "ISO-3",
         "locations": [
          "AND",
          "ARE",
          "ARG",
          "ARM",
          "ASM",
          "AUS",
          "AUT",
          "BEL",
          "BGR",
          "BIH",
          "BOL",
          "BRA",
          "CAF",
          "CAN",
          "CHE",
          "CHL",
          "CHN",
          "COL",
          "CRI",
          "CYP",
          "CZE",
          "DEU",
          "DNK",
          "DOM",
          "DZA",
          "ECU",
          "EGY",
          "ESP",
          "EST",
          "FIN",
          "FRA",
          "GBR",
          "GEO",
          "GHA",
          "GRC",
          "HKG",
          "HND",
          "HRV",
          "HUN",
          "IDN",
          "IND",
          "IRL",
          "IRN",
          "IRQ",
          "ISR",
          "ITA",
          "JEY",
          "JPN",
          "KEN",
          "KOR",
          "KWT",
          "LBN",
          "LTU",
          "LUX",
          "LVA",
          "MDA",
          "MEX",
          "MLT",
          "MUS",
          "MYS",
          "NGA",
          "NLD",
          "NOR",
          "NZL",
          "OMN",
          "PAK",
          "PER",
          "PHL",
          "POL",
          "PRI",
          "PRT",
          "QAT",
          "ROU",
          "RUS",
          "SAU",
          "SGP",
          "SRB",
          "SVN",
          "SWE",
          "THA",
          "TUN",
          "TUR",
          "UGA",
          "UKR",
          "USA",
          "UZB",
          "VNM",
          "ZAF"
         ],
         "name": "",
         "type": "choropleth",
         "z": [
          50745,
          86000,
          58461.53846153846,
          33500,
          45555,
          130023.61111111111,
          65778.5,
          95565.83333333333,
          80000,
          75000,
          75000,
          61061.625,
          49216,
          145576.88387096775,
          137187.5,
          72519,
          125404,
          79115.25,
          20000,
          63701,
          59999.5,
          103537.34,
          52806.25,
          110000,
          100000,
          16000,
          135807.14285714287,
          58171.824817518245,
          43941.818181818184,
          64917.6,
          87811.66666666667,
          93084.2335243553,
          53500,
          34250,
          53866.23529411765,
          65540,
          20000,
          84751.83333333333,
          33169.5,
          15000,
          47010.46835443038,
          104694.91666666667,
          100000,
          100000,
          262515,
          54867.666666666664,
          100000,
          95821.625,
          50000,
          47000,
          50000,
          71750,
          61942.35,
          59102,
          57059.6875,
          66500,
          134186.35714285713,
          50423,
          100000,
          200000,
          52416.666666666664,
          76268.4375,
          88462,
          146761.25,
          46848,
          38536.166666666664,
          27000,
          53667.555555555555,
          78104.26666666666,
          166000,
          53920.96666666667,
          300000,
          44338,
          79242.5,
          139999.33333333334,
          83092.6,
          25532,
          56186.333333333336,
          105000,
          32228.5,
          90234.5,
          34186.5,
          36000,
          98272.72727272728,
          157235.60022863292,
          82000,
          56733.333333333336,
          53488.68421052631
         ]
        }
       ],
       "layout": {
        "coloraxis": {
         "colorbar": {
          "title": {
           "text": "Average Salary"
          }
         },
         "colorscale": [
          [
           0,
           "#0d0887"
          ],
          [
           0.1111111111111111,
           "#46039f"
          ],
          [
           0.2222222222222222,
           "#7201a8"
          ],
          [
           0.3333333333333333,
           "#9c179e"
          ],
          [
           0.4444444444444444,
           "#bd3786"
          ],
          [
           0.5555555555555556,
           "#d8576b"
          ],
          [
           0.6666666666666666,
           "#ed7953"
          ],
          [
           0.7777777777777778,
           "#fb9f3a"
          ],
          [
           0.8888888888888888,
           "#fdca26"
          ],
          [
           1,
           "#f0f921"
          ]
         ]
        },
        "geo": {
         "center": {},
         "domain": {
          "x": [
           0,
           1
          ],
          "y": [
           0,
           1
          ]
         },
         "projection": {
          "type": "natural earth"
         },
         "showcoastlines": true
        },
        "legend": {
         "tracegroupgap": 0
        },
        "margin": {
         "t": 60
        },
        "template": {
         "data": {
          "bar": [
           {
            "error_x": {
             "color": "#2a3f5f"
            },
            "error_y": {
             "color": "#2a3f5f"
            },
            "marker": {
             "line": {
              "color": "#E5ECF6",
              "width": 0.5
             },
             "pattern": {
              "fillmode": "overlay",
              "size": 10,
              "solidity": 0.2
             }
            },
            "type": "bar"
           }
          ],
          "barpolar": [
           {
            "marker": {
             "line": {
              "color": "#E5ECF6",
              "width": 0.5
             },
             "pattern": {
              "fillmode": "overlay",
              "size": 10,
              "solidity": 0.2
             }
            },
            "type": "barpolar"
           }
          ],
          "carpet": [
           {
            "aaxis": {
             "endlinecolor": "#2a3f5f",
             "gridcolor": "white",
             "linecolor": "white",
             "minorgridcolor": "white",
             "startlinecolor": "#2a3f5f"
            },
            "baxis": {
             "endlinecolor": "#2a3f5f",
             "gridcolor": "white",
             "linecolor": "white",
             "minorgridcolor": "white",
             "startlinecolor": "#2a3f5f"
            },
            "type": "carpet"
           }
          ],
          "choropleth": [
           {
            "colorbar": {
             "outlinewidth": 0,
             "ticks": ""
            },
            "type": "choropleth"
           }
          ],
          "contour": [
           {
            "colorbar": {
             "outlinewidth": 0,
             "ticks": ""
            },
            "colorscale": [
             [
              0,
              "#0d0887"
             ],
             [
              0.1111111111111111,
              "#46039f"
             ],
             [
              0.2222222222222222,
              "#7201a8"
             ],
             [
              0.3333333333333333,
              "#9c179e"
             ],
             [
              0.4444444444444444,
              "#bd3786"
             ],
             [
              0.5555555555555556,
              "#d8576b"
             ],
             [
              0.6666666666666666,
              "#ed7953"
             ],
             [
              0.7777777777777778,
              "#fb9f3a"
             ],
             [
              0.8888888888888888,
              "#fdca26"
             ],
             [
              1,
              "#f0f921"
             ]
            ],
            "type": "contour"
           }
          ],
          "contourcarpet": [
           {
            "colorbar": {
             "outlinewidth": 0,
             "ticks": ""
            },
            "type": "contourcarpet"
           }
          ],
          "heatmap": [
           {
            "colorbar": {
             "outlinewidth": 0,
             "ticks": ""
            },
            "colorscale": [
             [
              0,
              "#0d0887"
             ],
             [
              0.1111111111111111,
              "#46039f"
             ],
             [
              0.2222222222222222,
              "#7201a8"
             ],
             [
              0.3333333333333333,
              "#9c179e"
             ],
             [
              0.4444444444444444,
              "#bd3786"
             ],
             [
              0.5555555555555556,
              "#d8576b"
             ],
             [
              0.6666666666666666,
              "#ed7953"
             ],
             [
              0.7777777777777778,
              "#fb9f3a"
             ],
             [
              0.8888888888888888,
              "#fdca26"
             ],
             [
              1,
              "#f0f921"
             ]
            ],
            "type": "heatmap"
           }
          ],
          "heatmapgl": [
           {
            "colorbar": {
             "outlinewidth": 0,
             "ticks": ""
            },
            "colorscale": [
             [
              0,
              "#0d0887"
             ],
             [
              0.1111111111111111,
              "#46039f"
             ],
             [
              0.2222222222222222,
              "#7201a8"
             ],
             [
              0.3333333333333333,
              "#9c179e"
             ],
             [
              0.4444444444444444,
              "#bd3786"
             ],
             [
              0.5555555555555556,
              "#d8576b"
             ],
             [
              0.6666666666666666,
              "#ed7953"
             ],
             [
              0.7777777777777778,
              "#fb9f3a"
             ],
             [
              0.8888888888888888,
              "#fdca26"
             ],
             [
              1,
              "#f0f921"
             ]
            ],
            "type": "heatmapgl"
           }
          ],
          "histogram": [
           {
            "marker": {
             "pattern": {
              "fillmode": "overlay",
              "size": 10,
              "solidity": 0.2
             }
            },
            "type": "histogram"
           }
          ],
          "histogram2d": [
           {
            "colorbar": {
             "outlinewidth": 0,
             "ticks": ""
            },
            "colorscale": [
             [
              0,
              "#0d0887"
             ],
             [
              0.1111111111111111,
              "#46039f"
             ],
             [
              0.2222222222222222,
              "#7201a8"
             ],
             [
              0.3333333333333333,
              "#9c179e"
             ],
             [
              0.4444444444444444,
              "#bd3786"
             ],
             [
              0.5555555555555556,
              "#d8576b"
             ],
             [
              0.6666666666666666,
              "#ed7953"
             ],
             [
              0.7777777777777778,
              "#fb9f3a"
             ],
             [
              0.8888888888888888,
              "#fdca26"
             ],
             [
              1,
              "#f0f921"
             ]
            ],
            "type": "histogram2d"
           }
          ],
          "histogram2dcontour": [
           {
            "colorbar": {
             "outlinewidth": 0,
             "ticks": ""
            },
            "colorscale": [
             [
              0,
              "#0d0887"
             ],
             [
              0.1111111111111111,
              "#46039f"
             ],
             [
              0.2222222222222222,
              "#7201a8"
             ],
             [
              0.3333333333333333,
              "#9c179e"
             ],
             [
              0.4444444444444444,
              "#bd3786"
             ],
             [
              0.5555555555555556,
              "#d8576b"
             ],
             [
              0.6666666666666666,
              "#ed7953"
             ],
             [
              0.7777777777777778,
              "#fb9f3a"
             ],
             [
              0.8888888888888888,
              "#fdca26"
             ],
             [
              1,
              "#f0f921"
             ]
            ],
            "type": "histogram2dcontour"
           }
          ],
          "mesh3d": [
           {
            "colorbar": {
             "outlinewidth": 0,
             "ticks": ""
            },
            "type": "mesh3d"
           }
          ],
          "parcoords": [
           {
            "line": {
             "colorbar": {
              "outlinewidth": 0,
              "ticks": ""
             }
            },
            "type": "parcoords"
           }
          ],
          "pie": [
           {
            "automargin": true,
            "type": "pie"
           }
          ],
          "scatter": [
           {
            "fillpattern": {
             "fillmode": "overlay",
             "size": 10,
             "solidity": 0.2
            },
            "type": "scatter"
           }
          ],
          "scatter3d": [
           {
            "line": {
             "colorbar": {
              "outlinewidth": 0,
              "ticks": ""
             }
            },
            "marker": {
             "colorbar": {
              "outlinewidth": 0,
              "ticks": ""
             }
            },
            "type": "scatter3d"
           }
          ],
          "scattercarpet": [
           {
            "marker": {
             "colorbar": {
              "outlinewidth": 0,
              "ticks": ""
             }
            },
            "type": "scattercarpet"
           }
          ],
          "scattergeo": [
           {
            "marker": {
             "colorbar": {
              "outlinewidth": 0,
              "ticks": ""
             }
            },
            "type": "scattergeo"
           }
          ],
          "scattergl": [
           {
            "marker": {
             "colorbar": {
              "outlinewidth": 0,
              "ticks": ""
             }
            },
            "type": "scattergl"
           }
          ],
          "scattermapbox": [
           {
            "marker": {
             "colorbar": {
              "outlinewidth": 0,
              "ticks": ""
             }
            },
            "type": "scattermapbox"
           }
          ],
          "scatterpolar": [
           {
            "marker": {
             "colorbar": {
              "outlinewidth": 0,
              "ticks": ""
             }
            },
            "type": "scatterpolar"
           }
          ],
          "scatterpolargl": [
           {
            "marker": {
             "colorbar": {
              "outlinewidth": 0,
              "ticks": ""
             }
            },
            "type": "scatterpolargl"
           }
          ],
          "scatterternary": [
           {
            "marker": {
             "colorbar": {
              "outlinewidth": 0,
              "ticks": ""
             }
            },
            "type": "scatterternary"
           }
          ],
          "surface": [
           {
            "colorbar": {
             "outlinewidth": 0,
             "ticks": ""
            },
            "colorscale": [
             [
              0,
              "#0d0887"
             ],
             [
              0.1111111111111111,
              "#46039f"
             ],
             [
              0.2222222222222222,
              "#7201a8"
             ],
             [
              0.3333333333333333,
              "#9c179e"
             ],
             [
              0.4444444444444444,
              "#bd3786"
             ],
             [
              0.5555555555555556,
              "#d8576b"
             ],
             [
              0.6666666666666666,
              "#ed7953"
             ],
             [
              0.7777777777777778,
              "#fb9f3a"
             ],
             [
              0.8888888888888888,
              "#fdca26"
             ],
             [
              1,
              "#f0f921"
             ]
            ],
            "type": "surface"
           }
          ],
          "table": [
           {
            "cells": {
             "fill": {
              "color": "#EBF0F8"
             },
             "line": {
              "color": "white"
             }
            },
            "header": {
             "fill": {
              "color": "#C8D4E3"
             },
             "line": {
              "color": "white"
             }
            },
            "type": "table"
           }
          ]
         },
         "layout": {
          "annotationdefaults": {
           "arrowcolor": "#2a3f5f",
           "arrowhead": 0,
           "arrowwidth": 1
          },
          "autotypenumbers": "strict",
          "coloraxis": {
           "colorbar": {
            "outlinewidth": 0,
            "ticks": ""
           }
          },
          "colorscale": {
           "diverging": [
            [
             0,
             "#8e0152"
            ],
            [
             0.1,
             "#c51b7d"
            ],
            [
             0.2,
             "#de77ae"
            ],
            [
             0.3,
             "#f1b6da"
            ],
            [
             0.4,
             "#fde0ef"
            ],
            [
             0.5,
             "#f7f7f7"
            ],
            [
             0.6,
             "#e6f5d0"
            ],
            [
             0.7,
             "#b8e186"
            ],
            [
             0.8,
             "#7fbc41"
            ],
            [
             0.9,
             "#4d9221"
            ],
            [
             1,
             "#276419"
            ]
           ],
           "sequential": [
            [
             0,
             "#0d0887"
            ],
            [
             0.1111111111111111,
             "#46039f"
            ],
            [
             0.2222222222222222,
             "#7201a8"
            ],
            [
             0.3333333333333333,
             "#9c179e"
            ],
            [
             0.4444444444444444,
             "#bd3786"
            ],
            [
             0.5555555555555556,
             "#d8576b"
            ],
            [
             0.6666666666666666,
             "#ed7953"
            ],
            [
             0.7777777777777778,
             "#fb9f3a"
            ],
            [
             0.8888888888888888,
             "#fdca26"
            ],
            [
             1,
             "#f0f921"
            ]
           ],
           "sequentialminus": [
            [
             0,
             "#0d0887"
            ],
            [
             0.1111111111111111,
             "#46039f"
            ],
            [
             0.2222222222222222,
             "#7201a8"
            ],
            [
             0.3333333333333333,
             "#9c179e"
            ],
            [
             0.4444444444444444,
             "#bd3786"
            ],
            [
             0.5555555555555556,
             "#d8576b"
            ],
            [
             0.6666666666666666,
             "#ed7953"
            ],
            [
             0.7777777777777778,
             "#fb9f3a"
            ],
            [
             0.8888888888888888,
             "#fdca26"
            ],
            [
             1,
             "#f0f921"
            ]
           ]
          },
          "colorway": [
           "#636efa",
           "#EF553B",
           "#00cc96",
           "#ab63fa",
           "#FFA15A",
           "#19d3f3",
           "#FF6692",
           "#B6E880",
           "#FF97FF",
           "#FECB52"
          ],
          "font": {
           "color": "#2a3f5f"
          },
          "geo": {
           "bgcolor": "white",
           "lakecolor": "white",
           "landcolor": "#E5ECF6",
           "showlakes": true,
           "showland": true,
           "subunitcolor": "white"
          },
          "hoverlabel": {
           "align": "left"
          },
          "hovermode": "closest",
          "mapbox": {
           "style": "light"
          },
          "paper_bgcolor": "white",
          "plot_bgcolor": "#E5ECF6",
          "polar": {
           "angularaxis": {
            "gridcolor": "white",
            "linecolor": "white",
            "ticks": ""
           },
           "bgcolor": "#E5ECF6",
           "radialaxis": {
            "gridcolor": "white",
            "linecolor": "white",
            "ticks": ""
           }
          },
          "scene": {
           "xaxis": {
            "backgroundcolor": "#E5ECF6",
            "gridcolor": "white",
            "gridwidth": 2,
            "linecolor": "white",
            "showbackground": true,
            "ticks": "",
            "zerolinecolor": "white"
           },
           "yaxis": {
            "backgroundcolor": "#E5ECF6",
            "gridcolor": "white",
            "gridwidth": 2,
            "linecolor": "white",
            "showbackground": true,
            "ticks": "",
            "zerolinecolor": "white"
           },
           "zaxis": {
            "backgroundcolor": "#E5ECF6",
            "gridcolor": "white",
            "gridwidth": 2,
            "linecolor": "white",
            "showbackground": true,
            "ticks": "",
            "zerolinecolor": "white"
           }
          },
          "shapedefaults": {
           "line": {
            "color": "#2a3f5f"
           }
          },
          "ternary": {
           "aaxis": {
            "gridcolor": "white",
            "linecolor": "white",
            "ticks": ""
           },
           "baxis": {
            "gridcolor": "white",
            "linecolor": "white",
            "ticks": ""
           },
           "bgcolor": "#E5ECF6",
           "caxis": {
            "gridcolor": "white",
            "linecolor": "white",
            "ticks": ""
           }
          },
          "title": {
           "x": 0.05
          },
          "xaxis": {
           "automargin": true,
           "gridcolor": "white",
           "linecolor": "white",
           "ticks": "",
           "title": {
            "standoff": 15
           },
           "zerolinecolor": "white",
           "zerolinewidth": 2
          },
          "yaxis": {
           "automargin": true,
           "gridcolor": "white",
           "linecolor": "white",
           "ticks": "",
           "title": {
            "standoff": 15
           },
           "zerolinecolor": "white",
           "zerolinewidth": 2
          }
         }
        },
        "title": {
         "text": "World Map - Average Salary"
        }
       }
      }
     },
     "metadata": {},
     "output_type": "display_data"
    }
   ],
   "source": [
    "\n",
    "fig = px.choropleth(df.groupby('iso_3_employ_residence')['salary_in_usd'].mean().reset_index(name='Average Salary'), \n",
    "                    locations='iso_3_employ_residence',\n",
    "                    locationmode='ISO-3',\n",
    "                    color= 'Average Salary',\n",
    "                    hover_name='iso_3_employ_residence',\n",
    "                    color_continuous_scale='plasma')\n",
    "fig.update_geos(projection_type=\"natural earth\", showcoastlines=True)\n",
    "fig.update_layout(title_text='World Map - Average Salary')\n",
    "fig.show()"
   ]
  },
  {
   "cell_type": "markdown",
   "id": "b0790cd219830b9c",
   "metadata": {
    "collapsed": false
   },
   "source": [
    "<strong>Plotting a Correlation matrix</strong>"
   ]
  },
  {
   "cell_type": "code",
   "execution_count": 17,
   "id": "7442ee14b80df69d",
   "metadata": {
    "ExecuteTime": {
     "end_time": "2024-04-28T19:19:02.279202300Z",
     "start_time": "2024-04-28T19:19:02.065322Z"
    },
    "collapsed": false
   },
   "outputs": [
    {
     "data": {
      "image/png": "[encoded data removed]",
      "text/plain": [
       "<Figure size 1000x800 with 2 Axes>"
      ]
     },
     "metadata": {},
     "output_type": "display_data"
    }
   ],
   "source": [
    "numerical_features = df[['work_year','salary','salary_in_usd','remote_ratio']]\n",
    "correlation_matrix = numerical_features.corr()\n",
    "plt.figure(figsize=(10,8))\n",
    "sns.heatmap(correlation_matrix, annot=True,cmap='coolwarm',fmt='.2f')\n",
    "plt.title('Correlation Matrix of dataset')\n",
    "plt.show()"
   ]
  },
  {
   "cell_type": "markdown",
   "id": "42c0431f",
   "metadata": {},
   "source": [
    "-----------------EDA Ends Here--------------------\n"
   ]
  },
  {
   "cell_type": "markdown",
   "id": "9379ba0f",
   "metadata": {},
   "source": [
    "## 4. Preparing the Data for Machine Learning Algorithms"
   ]
  },
  {
   "cell_type": "markdown",
   "id": "3be83a02",
   "metadata": {},
   "source": [
    "<strong>Checking for Duplicates</strong>"
   ]
  },
  {
   "cell_type": "code",
   "execution_count": 18,
   "id": "93a3d9ff",
   "metadata": {
    "ExecuteTime": {
     "end_time": "2024-04-28T19:19:02.380281Z",
     "start_time": "2024-04-28T19:19:02.281203600Z"
    }
   },
   "outputs": [
    {
     "data": {
      "text/plain": [
       "6615"
      ]
     },
     "execution_count": 18,
     "metadata": {},
     "output_type": "execute_result"
    }
   ],
   "source": [
    "df.duplicated().sum()"
   ]
  },
  {
   "cell_type": "code",
   "execution_count": 19,
   "id": "a23d25ec",
   "metadata": {
    "ExecuteTime": {
     "end_time": "2024-04-28T19:19:02.380281Z",
     "start_time": "2024-04-28T19:19:02.296583200Z"
    }
   },
   "outputs": [],
   "source": [
    "df.drop_duplicates(inplace=True)"
   ]
  },
  {
   "cell_type": "code",
   "execution_count": 20,
   "id": "15546a8a6914beae",
   "metadata": {
    "ExecuteTime": {
     "end_time": "2024-04-28T19:19:02.380281Z",
     "start_time": "2024-04-28T19:19:02.311808500Z"
    },
    "collapsed": false
   },
   "outputs": [
    {
     "data": {
      "text/plain": [
       "(10350, 12)"
      ]
     },
     "execution_count": 20,
     "metadata": {},
     "output_type": "execute_result"
    }
   ],
   "source": [
    "df.shape"
   ]
  },
  {
   "cell_type": "markdown",
   "id": "e19c5a62ecff8e73",
   "metadata": {
    "collapsed": false
   },
   "source": [
    "<strong>Dropping unnecessary features</strong>"
   ]
  },
  {
   "cell_type": "code",
   "execution_count": 21,
   "id": "a58bd767e24d0497",
   "metadata": {
    "ExecuteTime": {
     "end_time": "2024-04-28T19:19:02.381282300Z",
     "start_time": "2024-04-28T19:19:02.327203800Z"
    },
    "collapsed": false
   },
   "outputs": [
    {
     "data": {
      "text/html": [
       "<div>\n",
       "<style scoped>\n",
       "    .dataframe tbody tr th:only-of-type {\n",
       "        vertical-align: middle;\n",
       "    }\n",
       "\n",
       "    .dataframe tbody tr th {\n",
       "        vertical-align: top;\n",
       "    }\n",
       "\n",
       "    .dataframe thead th {\n",
       "        text-align: right;\n",
       "    }\n",
       "</style>\n",
       "<table border=\"1\" class=\"dataframe\">\n",
       "  <thead>\n",
       "    <tr style=\"text-align: right;\">\n",
       "      <th></th>\n",
       "      <th>experience_level</th>\n",
       "      <th>employment_type</th>\n",
       "      <th>salary_in_usd</th>\n",
       "      <th>remote_ratio</th>\n",
       "      <th>company_size</th>\n",
       "    </tr>\n",
       "  </thead>\n",
       "  <tbody>\n",
       "    <tr>\n",
       "      <th>0</th>\n",
       "      <td>EN</td>\n",
       "      <td>FT</td>\n",
       "      <td>198600</td>\n",
       "      <td>0</td>\n",
       "      <td>M</td>\n",
       "    </tr>\n",
       "    <tr>\n",
       "      <th>1</th>\n",
       "      <td>EN</td>\n",
       "      <td>FT</td>\n",
       "      <td>94300</td>\n",
       "      <td>0</td>\n",
       "      <td>M</td>\n",
       "    </tr>\n",
       "    <tr>\n",
       "      <th>2</th>\n",
       "      <td>SE</td>\n",
       "      <td>FT</td>\n",
       "      <td>135800</td>\n",
       "      <td>100</td>\n",
       "      <td>M</td>\n",
       "    </tr>\n",
       "    <tr>\n",
       "      <th>3</th>\n",
       "      <td>SE</td>\n",
       "      <td>FT</td>\n",
       "      <td>95100</td>\n",
       "      <td>100</td>\n",
       "      <td>M</td>\n",
       "    </tr>\n",
       "    <tr>\n",
       "      <th>4</th>\n",
       "      <td>EN</td>\n",
       "      <td>FT</td>\n",
       "      <td>86900</td>\n",
       "      <td>100</td>\n",
       "      <td>M</td>\n",
       "    </tr>\n",
       "  </tbody>\n",
       "</table>\n",
       "</div>"
      ],
      "text/plain": [
       "  experience_level employment_type  salary_in_usd  remote_ratio company_size\n",
       "0               EN              FT         198600             0            M\n",
       "1               EN              FT          94300             0            M\n",
       "2               SE              FT         135800           100            M\n",
       "3               SE              FT          95100           100            M\n",
       "4               EN              FT          86900           100            M"
      ]
     },
     "execution_count": 21,
     "metadata": {},
     "output_type": "execute_result"
    }
   ],
   "source": [
    "# dropping columns based on correlation matrix and intuition\n",
    "columns_to_drop = ['work_year','job_title','salary','salary_currency','employee_residence','company_location','iso_3_employ_residence']\n",
    "df_tmp = df.drop(columns=columns_to_drop)\n",
    "df_tmp.head()"
   ]
  },
  {
   "cell_type": "markdown",
   "id": "b85603355f8a722f",
   "metadata": {
    "collapsed": false
   },
   "source": [
    "<strong>Converting `remote_ratio` to String from Int64</strong> "
   ]
  },
  {
   "cell_type": "code",
   "execution_count": 22,
   "id": "edcf9a8afa8e318f",
   "metadata": {
    "ExecuteTime": {
     "end_time": "2024-04-28T19:19:02.381282300Z",
     "start_time": "2024-04-28T19:19:02.341455900Z"
    },
    "collapsed": false
   },
   "outputs": [
    {
     "data": {
      "text/plain": [
       "dtype('O')"
      ]
     },
     "execution_count": 22,
     "metadata": {},
     "output_type": "execute_result"
    }
   ],
   "source": [
    "df_tmp['remote_ratio'] = df_tmp['remote_ratio'].astype(str)\n",
    "df_tmp.remote_ratio.dtype"
   ]
  },
  {
   "cell_type": "markdown",
   "id": "dec4ff8ba3dceaf",
   "metadata": {
    "collapsed": false
   },
   "source": [
    "<strong>Checking for Missing values </strong>"
   ]
  },
  {
   "cell_type": "code",
   "execution_count": 23,
   "id": "761dde1a29218f3d",
   "metadata": {
    "ExecuteTime": {
     "end_time": "2024-04-28T19:19:02.382283400Z",
     "start_time": "2024-04-28T19:19:02.357730800Z"
    },
    "collapsed": false
   },
   "outputs": [
    {
     "data": {
      "text/plain": [
       "experience_level    0\n",
       "employment_type     0\n",
       "salary_in_usd       0\n",
       "remote_ratio        0\n",
       "company_size        0\n",
       "dtype: int64"
      ]
     },
     "execution_count": 23,
     "metadata": {},
     "output_type": "execute_result"
    }
   ],
   "source": [
    "df_tmp.isna().sum()"
   ]
  },
  {
   "cell_type": "markdown",
   "id": "ba2e2fcb5ab448c1",
   "metadata": {
    "collapsed": false
   },
   "source": [
    "<strong>Making Pipeline for future dataset</strong>\n",
    "\n",
    "- Note: Currently we don't have any missing values but this pipeline will take care \n",
    "of the new samples which might not be in clean or pre-processed state. "
   ]
  },
  {
   "cell_type": "code",
   "execution_count": null,
   "id": "40f7fca547f0696",
   "metadata": {
    "ExecuteTime": {
     "end_time": "2024-04-28T19:19:02.402741300Z",
     "start_time": "2024-04-28T19:19:02.373151500Z"
    },
    "collapsed": false
   },
   "outputs": [],
   "source": []
  }
 ],
 "metadata": {
  "kernelspec": {
   "display_name": "Python 3 (ipykernel)",
   "language": "python",
   "name": "python3"
  },
  "language_info": {
   "codemirror_mode": {
    "name": "ipython",
    "version": 3
   },
   "file_extension": ".py",
   "mimetype": "text/x-python",
   "name": "python",
   "nbconvert_exporter": "python",
   "pygments_lexer": "ipython3",
   "version": "3.11.7"
  }
 },
 "nbformat": 4,
 "nbformat_minor": 5
}
