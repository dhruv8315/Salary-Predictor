{
 "cells": [
  {
   "cell_type": "markdown",
   "id": "a96797a7-0ccd-49f9-9aae-caae5ec4fe19",
   "metadata": {},
   "source": [
    "# Data Science Job Salary Prediction\n",
    "\n",
    "## 1. Looking at Big Picture\n",
    "\n",
    "### Problem Statement\n",
    "The goal for a machine learning perspective would be to perform exploratory data analysis (EDA) on the dataset to identify patterns and relationships that could be valuable for building predictive models. This could involve understanding how different features such as job title, experience level, and company size correlate with salaries. Additionally, preprocessing steps like handling missing data and encoding categorical variables might be necessary. The ultimate objective could be to develop a machine learning model that predicts data science job salaries based on the provided features.\n",
    "\n",
    "### About Dataset\n",
    "salaries.csv contains a single table with all salary information structured as follows:\n",
    "\n",
    "- work_year: The year the salary was paid.\n",
    "\n",
    "- job_title: The role worked in during the year.\n",
    "\n",
    "- salary_currency: The currency of the salary paid as an ISO 4217 currency code.\n",
    "\n",
    "- salary: The total gross salary amount paid.\n",
    "\n",
    "- salary_in_usd: The salary in USD (FX rate divided by avg. USD rate of respective year) via statistical data from the BIS and central banks.\n",
    "\n",
    "- employee_residence: Employee's primary country of residence in during the work year as an ISO 3166 country code.\n",
    "\n",
    "- experience_level: The experience level in the job during the year with the following possible values: EN Entry-level / Junior, MI Mid-level / Intermediate, SE Senior-level / Expert, EX Executive-level / Director\n",
    "\n",
    "- employment_type: The type of employment for the role:\n",
    "PT Part-time\n",
    "FT Full-time\n",
    "CT Contract\n",
    "FL Freelance\n",
    "\n",
    "- remote_ratio: The overall amount of work done remotely, possible values are as follows:\n",
    "0\n",
    "No remote work (less than 20%)\n",
    "50\n",
    "Partially remote/hybrid\n",
    "100\n",
    "Fully remote (more than 80%)\n",
    "\n",
    "- company_location: The country of the employer's main office or contracting branch as an ISO 3166 country code.\n",
    "\n",
    "- company_size: The average number of people that worked for the company during the year:\n",
    "S\n",
    "less than 50 employees (small)\n",
    "M\n",
    "50 to 250 employees (medium)\n",
    "L\n",
    "more than 250 employees (large)\n",
    "## Big Picture \n",
    "It is a supervised learning task, we will train different regression models to find patterns in the given data. We will be using batch learning because our dataset is small and there is no continuous flow of data coming into the system. So we do not need to adjust to changing data rapidly."
   ]
  },
  {
   "cell_type": "markdown",
   "id": "d4933821-ea3d-4b1e-9dd6-0957f714f302",
   "metadata": {},
   "source": [
    "## 2. Get the Data"
   ]
  },
  {
   "cell_type": "code",
   "execution_count": 126,
   "id": "63aa67f1-5acf-4275-9ff1-a9860b2bc5a8",
   "metadata": {
    "ExecuteTime": {
     "end_time": "2024-04-28T19:34:33.172514Z",
     "start_time": "2024-04-28T19:34:33.042232100Z"
    }
   },
   "outputs": [],
   "source": [
    "import pandas as pd\n",
    "import numpy as np\n",
    "import matplotlib.pyplot as plt\n",
    "import seaborn as sns\n",
    "import sklearn\n",
    "import plotly_express as px\n",
    "import country_converter as coco"
   ]
  },
  {
   "cell_type": "code",
   "execution_count": 127,
   "id": "57affd81-ee4f-4b5f-8ef9-f824356f04e3",
   "metadata": {
    "jp-MarkdownHeadingCollapsed": true,
    "ExecuteTime": {
     "end_time": "2024-04-28T19:34:33.350345Z",
     "start_time": "2024-04-28T19:34:33.057852500Z"
    }
   },
   "outputs": [
    {
     "data": {
      "text/plain": "   work_year experience_level employment_type       job_title  salary  \\\n0       2024               EN              FT  Data Scientist  198600   \n1       2024               EN              FT  Data Scientist   94300   \n2       2024               SE              FT    Data Science  135800   \n3       2024               SE              FT    Data Science   95100   \n4       2024               EN              FT    Data Science   86900   \n\n  salary_currency  salary_in_usd employee_residence  remote_ratio  \\\n0             USD         198600                 US             0   \n1             USD          94300                 US             0   \n2             USD         135800                 US           100   \n3             USD          95100                 US           100   \n4             USD          86900                 US           100   \n\n  company_location company_size  \n0               US            M  \n1               US            M  \n2               US            M  \n3               US            M  \n4               US            M  ",
      "text/html": "<div>\n<style scoped>\n    .dataframe tbody tr th:only-of-type {\n        vertical-align: middle;\n    }\n\n    .dataframe tbody tr th {\n        vertical-align: top;\n    }\n\n    .dataframe thead th {\n        text-align: right;\n    }\n</style>\n<table border=\"1\" class=\"dataframe\">\n  <thead>\n    <tr style=\"text-align: right;\">\n      <th></th>\n      <th>work_year</th>\n      <th>experience_level</th>\n      <th>employment_type</th>\n      <th>job_title</th>\n      <th>salary</th>\n      <th>salary_currency</th>\n      <th>salary_in_usd</th>\n      <th>employee_residence</th>\n      <th>remote_ratio</th>\n      <th>company_location</th>\n      <th>company_size</th>\n    </tr>\n  </thead>\n  <tbody>\n    <tr>\n      <th>0</th>\n      <td>2024</td>\n      <td>EN</td>\n      <td>FT</td>\n      <td>Data Scientist</td>\n      <td>198600</td>\n      <td>USD</td>\n      <td>198600</td>\n      <td>US</td>\n      <td>0</td>\n      <td>US</td>\n      <td>M</td>\n    </tr>\n    <tr>\n      <th>1</th>\n      <td>2024</td>\n      <td>EN</td>\n      <td>FT</td>\n      <td>Data Scientist</td>\n      <td>94300</td>\n      <td>USD</td>\n      <td>94300</td>\n      <td>US</td>\n      <td>0</td>\n      <td>US</td>\n      <td>M</td>\n    </tr>\n    <tr>\n      <th>2</th>\n      <td>2024</td>\n      <td>SE</td>\n      <td>FT</td>\n      <td>Data Science</td>\n      <td>135800</td>\n      <td>USD</td>\n      <td>135800</td>\n      <td>US</td>\n      <td>100</td>\n      <td>US</td>\n      <td>M</td>\n    </tr>\n    <tr>\n      <th>3</th>\n      <td>2024</td>\n      <td>SE</td>\n      <td>FT</td>\n      <td>Data Science</td>\n      <td>95100</td>\n      <td>USD</td>\n      <td>95100</td>\n      <td>US</td>\n      <td>100</td>\n      <td>US</td>\n      <td>M</td>\n    </tr>\n    <tr>\n      <th>4</th>\n      <td>2024</td>\n      <td>EN</td>\n      <td>FT</td>\n      <td>Data Science</td>\n      <td>86900</td>\n      <td>USD</td>\n      <td>86900</td>\n      <td>US</td>\n      <td>100</td>\n      <td>US</td>\n      <td>M</td>\n    </tr>\n  </tbody>\n</table>\n</div>"
     },
     "execution_count": 127,
     "metadata": {},
     "output_type": "execute_result"
    }
   ],
   "source": [
    "df = pd.read_csv(\"https://raw.githubusercontent.com/dhruv8315/Salary-Predictor/main/salaries.csv\")\n",
    "df.head()"
   ]
  },
  {
   "cell_type": "markdown",
   "id": "518580c4-0f67-4cdd-b5de-b0e081b99002",
   "metadata": {},
   "source": [
    "## 3.Explore and visualize the data to gain insights.\n",
    "\n",
    "### Getting information from the Dataset"
   ]
  },
  {
   "cell_type": "code",
   "execution_count": 128,
   "id": "8123839a-9c3d-47b7-9f93-0cfec8e5b538",
   "metadata": {
    "ExecuteTime": {
     "end_time": "2024-04-28T19:34:33.350345Z",
     "start_time": "2024-04-28T19:34:33.254645900Z"
    }
   },
   "outputs": [
    {
     "data": {
      "text/plain": "(16965, 11)"
     },
     "execution_count": 128,
     "metadata": {},
     "output_type": "execute_result"
    }
   ],
   "source": [
    "df.shape"
   ]
  },
  {
   "cell_type": "code",
   "execution_count": 129,
   "id": "e6465026-a0c3-41e2-af67-455e5b287cf2",
   "metadata": {
    "ExecuteTime": {
     "end_time": "2024-04-28T19:34:33.350345Z",
     "start_time": "2024-04-28T19:34:33.267618Z"
    }
   },
   "outputs": [
    {
     "data": {
      "text/plain": "Index(['work_year', 'experience_level', 'employment_type', 'job_title',\n       'salary', 'salary_currency', 'salary_in_usd', 'employee_residence',\n       'remote_ratio', 'company_location', 'company_size'],\n      dtype='object')"
     },
     "execution_count": 129,
     "metadata": {},
     "output_type": "execute_result"
    }
   ],
   "source": [
    "df.columns"
   ]
  },
  {
   "cell_type": "code",
   "execution_count": 130,
   "id": "01f58a8b-003d-4182-b265-0e00a122cec6",
   "metadata": {
    "ExecuteTime": {
     "end_time": "2024-04-28T19:34:33.350345Z",
     "start_time": "2024-04-28T19:34:33.288727200Z"
    }
   },
   "outputs": [
    {
     "data": {
      "text/plain": "work_year             0\nexperience_level      0\nemployment_type       0\njob_title             0\nsalary                0\nsalary_currency       0\nsalary_in_usd         0\nemployee_residence    0\nremote_ratio          0\ncompany_location      0\ncompany_size          0\ndtype: int64"
     },
     "execution_count": 130,
     "metadata": {},
     "output_type": "execute_result"
    }
   ],
   "source": [
    "df.isnull().sum()"
   ]
  },
  {
   "cell_type": "code",
   "execution_count": 131,
   "id": "89f6a3bd-2a92-4f4b-ae45-c51ce2e30e20",
   "metadata": {
    "ExecuteTime": {
     "end_time": "2024-04-28T19:34:33.350345Z",
     "start_time": "2024-04-28T19:34:33.325256500Z"
    }
   },
   "outputs": [
    {
     "name": "stdout",
     "output_type": "stream",
     "text": [
      "<class 'pandas.core.frame.DataFrame'>\n",
      "RangeIndex: 16965 entries, 0 to 16964\n",
      "Data columns (total 11 columns):\n",
      " #   Column              Non-Null Count  Dtype \n",
      "---  ------              --------------  ----- \n",
      " 0   work_year           16965 non-null  int64 \n",
      " 1   experience_level    16965 non-null  object\n",
      " 2   employment_type     16965 non-null  object\n",
      " 3   job_title           16965 non-null  object\n",
      " 4   salary              16965 non-null  int64 \n",
      " 5   salary_currency     16965 non-null  object\n",
      " 6   salary_in_usd       16965 non-null  int64 \n",
      " 7   employee_residence  16965 non-null  object\n",
      " 8   remote_ratio        16965 non-null  int64 \n",
      " 9   company_location    16965 non-null  object\n",
      " 10  company_size        16965 non-null  object\n",
      "dtypes: int64(4), object(7)\n",
      "memory usage: 1.4+ MB\n"
     ]
    }
   ],
   "source": [
    "df.info()"
   ]
  },
  {
   "cell_type": "code",
   "execution_count": 132,
   "id": "1abcbafd-54ac-4de3-ba2d-5df45b04c8bb",
   "metadata": {
    "ExecuteTime": {
     "end_time": "2024-04-28T19:34:33.397221700Z",
     "start_time": "2024-04-28T19:34:33.344260700Z"
    }
   },
   "outputs": [
    {
     "data": {
      "text/plain": "          work_year        salary  salary_in_usd  remote_ratio\ncount  16965.000000  1.696500e+04   16965.000000  16965.000000\nmean    2023.246508  1.636512e+05  149855.117654     31.626879\nstd        0.714863  3.363781e+05   68575.229960     46.107055\nmin     2020.000000  1.400000e+04   15000.000000      0.000000\n25%     2023.000000  1.020000e+05  101520.000000      0.000000\n50%     2023.000000  1.422000e+05  141300.000000      0.000000\n75%     2024.000000  1.880000e+05  186000.000000    100.000000\nmax     2024.000000  3.040000e+07  800000.000000    100.000000",
      "text/html": "<div>\n<style scoped>\n    .dataframe tbody tr th:only-of-type {\n        vertical-align: middle;\n    }\n\n    .dataframe tbody tr th {\n        vertical-align: top;\n    }\n\n    .dataframe thead th {\n        text-align: right;\n    }\n</style>\n<table border=\"1\" class=\"dataframe\">\n  <thead>\n    <tr style=\"text-align: right;\">\n      <th></th>\n      <th>work_year</th>\n      <th>salary</th>\n      <th>salary_in_usd</th>\n      <th>remote_ratio</th>\n    </tr>\n  </thead>\n  <tbody>\n    <tr>\n      <th>count</th>\n      <td>16965.000000</td>\n      <td>1.696500e+04</td>\n      <td>16965.000000</td>\n      <td>16965.000000</td>\n    </tr>\n    <tr>\n      <th>mean</th>\n      <td>2023.246508</td>\n      <td>1.636512e+05</td>\n      <td>149855.117654</td>\n      <td>31.626879</td>\n    </tr>\n    <tr>\n      <th>std</th>\n      <td>0.714863</td>\n      <td>3.363781e+05</td>\n      <td>68575.229960</td>\n      <td>46.107055</td>\n    </tr>\n    <tr>\n      <th>min</th>\n      <td>2020.000000</td>\n      <td>1.400000e+04</td>\n      <td>15000.000000</td>\n      <td>0.000000</td>\n    </tr>\n    <tr>\n      <th>25%</th>\n      <td>2023.000000</td>\n      <td>1.020000e+05</td>\n      <td>101520.000000</td>\n      <td>0.000000</td>\n    </tr>\n    <tr>\n      <th>50%</th>\n      <td>2023.000000</td>\n      <td>1.422000e+05</td>\n      <td>141300.000000</td>\n      <td>0.000000</td>\n    </tr>\n    <tr>\n      <th>75%</th>\n      <td>2024.000000</td>\n      <td>1.880000e+05</td>\n      <td>186000.000000</td>\n      <td>100.000000</td>\n    </tr>\n    <tr>\n      <th>max</th>\n      <td>2024.000000</td>\n      <td>3.040000e+07</td>\n      <td>800000.000000</td>\n      <td>100.000000</td>\n    </tr>\n  </tbody>\n</table>\n</div>"
     },
     "execution_count": 132,
     "metadata": {},
     "output_type": "execute_result"
    }
   ],
   "source": [
    "df.describe()"
   ]
  },
  {
   "cell_type": "code",
   "execution_count": 133,
   "id": "4a6a95e9-8536-4093-9828-d5352bee7b84",
   "metadata": {
    "ExecuteTime": {
     "end_time": "2024-04-28T19:34:34.045359400Z",
     "start_time": "2024-04-28T19:34:33.366037400Z"
    }
   },
   "outputs": [
    {
     "data": {
      "text/plain": "<Figure size 2400x1600 with 4 Axes>",
      "image/png": "[encoded data removed]"
     },
     "metadata": {},
     "output_type": "display_data"
    }
   ],
   "source": [
    "df.hist(figsize=(24,16))\n",
    "plt.show()"
   ]
  },
  {
   "cell_type": "code",
   "execution_count": 134,
   "id": "d10b47a1-467b-4704-8178-90fbeeb65f62",
   "metadata": {
    "ExecuteTime": {
     "end_time": "2024-04-28T19:34:34.358269Z",
     "start_time": "2024-04-28T19:34:34.045359400Z"
    }
   },
   "outputs": [
    {
     "data": {
      "text/plain": "       work_year  salary_in_usd\n0           2024         198600\n1           2024          94300\n2           2024         135800\n3           2024          95100\n4           2024          86900\n...          ...            ...\n16960       2020         412000\n16961       2021         151000\n16962       2020         105000\n16963       2020         100000\n16964       2021          94665\n\n[16965 rows x 2 columns]",
      "text/html": "<div>\n<style scoped>\n    .dataframe tbody tr th:only-of-type {\n        vertical-align: middle;\n    }\n\n    .dataframe tbody tr th {\n        vertical-align: top;\n    }\n\n    .dataframe thead th {\n        text-align: right;\n    }\n</style>\n<table border=\"1\" class=\"dataframe\">\n  <thead>\n    <tr style=\"text-align: right;\">\n      <th></th>\n      <th>work_year</th>\n      <th>salary_in_usd</th>\n    </tr>\n  </thead>\n  <tbody>\n    <tr>\n      <th>0</th>\n      <td>2024</td>\n      <td>198600</td>\n    </tr>\n    <tr>\n      <th>1</th>\n      <td>2024</td>\n      <td>94300</td>\n    </tr>\n    <tr>\n      <th>2</th>\n      <td>2024</td>\n      <td>135800</td>\n    </tr>\n    <tr>\n      <th>3</th>\n      <td>2024</td>\n      <td>95100</td>\n    </tr>\n    <tr>\n      <th>4</th>\n      <td>2024</td>\n      <td>86900</td>\n    </tr>\n    <tr>\n      <th>...</th>\n      <td>...</td>\n      <td>...</td>\n    </tr>\n    <tr>\n      <th>16960</th>\n      <td>2020</td>\n      <td>412000</td>\n    </tr>\n    <tr>\n      <th>16961</th>\n      <td>2021</td>\n      <td>151000</td>\n    </tr>\n    <tr>\n      <th>16962</th>\n      <td>2020</td>\n      <td>105000</td>\n    </tr>\n    <tr>\n      <th>16963</th>\n      <td>2020</td>\n      <td>100000</td>\n    </tr>\n    <tr>\n      <th>16964</th>\n      <td>2021</td>\n      <td>94665</td>\n    </tr>\n  </tbody>\n</table>\n<p>16965 rows × 2 columns</p>\n</div>"
     },
     "execution_count": 134,
     "metadata": {},
     "output_type": "execute_result"
    }
   ],
   "source": [
    "df[['work_year','salary_in_usd']]"
   ]
  },
  {
   "cell_type": "code",
   "execution_count": 135,
   "id": "675b62da-7ed7-4efa-bfbe-5ed3cedfd75c",
   "metadata": {
    "ExecuteTime": {
     "end_time": "2024-04-28T19:34:34.358269Z",
     "start_time": "2024-04-28T19:34:34.063467600Z"
    }
   },
   "outputs": [
    {
     "data": {
      "text/plain": "<AxesSubplot:xlabel='work_year', ylabel='count'>"
     },
     "execution_count": 135,
     "metadata": {},
     "output_type": "execute_result"
    },
    {
     "data": {
      "text/plain": "<Figure size 640x480 with 1 Axes>",
      "image/png": "[encoded data removed]"
     },
     "metadata": {},
     "output_type": "display_data"
    }
   ],
   "source": [
    "sns.countplot(data=df,x='work_year',palette='viridis')"
   ]
  },
  {
   "cell_type": "markdown",
   "id": "ee9768d3-859f-4cd5-b403-5754c83727f9",
   "metadata": {},
   "source": [
    "### Exploring the job titles\n",
    "<strong>Top 10 job titles</strong>"
   ]
  },
  {
   "cell_type": "code",
   "execution_count": 136,
   "id": "03ddd221-0028-491e-a295-0e0c277a54b5",
   "metadata": {
    "ExecuteTime": {
     "end_time": "2024-04-28T19:34:34.358269Z",
     "start_time": "2024-04-28T19:34:34.201983500Z"
    }
   },
   "outputs": [
    {
     "data": {
      "text/plain": "Data Engineer                3534\nData Scientist               3392\nData Analyst                 2500\nMachine Learning Engineer    1731\nResearch Scientist            559\nData Architect                457\nApplied Scientist             457\nAnalytics Engineer            433\nResearch Engineer             316\nData Science                  295\nName: job_title, dtype: int64"
     },
     "execution_count": 136,
     "metadata": {},
     "output_type": "execute_result"
    }
   ],
   "source": [
    "# top 10 job titles\n",
    "job_titles = df['job_title'].value_counts()\n",
    "top_job_titles = job_titles.nlargest(10)\n",
    "top_job_titles"
   ]
  },
  {
   "cell_type": "code",
   "execution_count": 137,
   "id": "42fe3138-fd9e-4ae2-b7cd-3849a53cf812",
   "metadata": {
    "ExecuteTime": {
     "end_time": "2024-04-28T19:34:34.530611200Z",
     "start_time": "2024-04-28T19:34:34.217643600Z"
    }
   },
   "outputs": [
    {
     "data": {
      "text/plain": "<Figure size 1000x600 with 1 Axes>",
      "image/png": "[encoded data removed]"
     },
     "metadata": {},
     "output_type": "display_data"
    }
   ],
   "source": [
    "# plotting top 10 job titles\n",
    "plt.figure(figsize=(10,6))\n",
    "sns.barplot(x=top_job_titles.index, y=top_job_titles.values, palette='viridis')\n",
    "plt.title(\"Top 10 job titles\")\n",
    "plt.xlabel(\"Job titles\")\n",
    "plt.ylabel(\"Count\")\n",
    "plt.xticks(rotation=45,ha='right')\n",
    "plt.tight_layout()\n",
    "plt.show()"
   ]
  },
  {
   "cell_type": "markdown",
   "id": "82ef59f5-3bb1-493b-8e36-310b2b93e7f6",
   "metadata": {},
   "source": [
    "<strong>Top 10 Highest Paying Jobs</strong>"
   ]
  },
  {
   "cell_type": "code",
   "execution_count": 138,
   "id": "f3c0e89c-5d64-449a-84ae-5ef5cbc2ab97",
   "metadata": {
    "ExecuteTime": {
     "end_time": "2024-04-28T19:34:34.530611200Z",
     "start_time": "2024-04-28T19:34:34.420737400Z"
    }
   },
   "outputs": [
    {
     "data": {
      "text/plain": "job_title\nAnalytics Engineering Manager     399880.000000\nData Science Tech Lead            375000.000000\nHead of Machine Learning          299758.428571\nManaging Director Data Science    280000.000000\nAWS Data Architect                258000.000000\nCloud Data Architect              250000.000000\nAI Architect                      245481.393939\nDirector of Data Science          218775.333333\nHead of Data                      211860.196721\nPrompt Engineer                   205093.588235\nName: salary_in_usd, dtype: float64"
     },
     "execution_count": 138,
     "metadata": {},
     "output_type": "execute_result"
    }
   ],
   "source": [
    "# top 10 highest paying Jobs\n",
    "mean_salary_in_usd = df.groupby('job_title')['salary_in_usd'].mean().nlargest(10)\n",
    "rounded_salaries = mean_salary_in_usd.values.round(2)\n",
    "mean_salary_in_usd"
   ]
  },
  {
   "cell_type": "code",
   "execution_count": 139,
   "id": "929c66b0-dd81-4fa3-8842-57435d71c1c7",
   "metadata": {
    "ExecuteTime": {
     "end_time": "2024-04-28T19:34:34.689355800Z",
     "start_time": "2024-04-28T19:34:34.436357300Z"
    }
   },
   "outputs": [
    {
     "data": {
      "text/plain": "<Figure size 1000x600 with 1 Axes>",
      "image/png": "[encoded data removed]"
     },
     "metadata": {},
     "output_type": "display_data"
    }
   ],
   "source": [
    "# plotting top 10 Highest paying job positions\n",
    "plt.figure(figsize=(10,6))\n",
    "sns.barplot(x=mean_salary_in_usd.index, y=rounded_salaries, palette='viridis')\n",
    "plt.title(\"Top 10 Highest paying job positions\")\n",
    "plt.xlabel(\"Job titles\")\n",
    "plt.ylabel(\"Salary in USD\")\n",
    "plt.xticks(rotation=45,ha='right')\n",
    "plt.tight_layout()\n",
    "plt.show()"
   ]
  },
  {
   "cell_type": "markdown",
   "id": "68eda061",
   "metadata": {},
   "source": [
    "<strong>Average salary around the world</strong>"
   ]
  },
  {
   "cell_type": "code",
   "execution_count": 140,
   "id": "9cc2bffa-17d1-40cf-ade4-b21fc2cdbf0c",
   "metadata": {
    "ExecuteTime": {
     "end_time": "2024-04-28T19:34:45.157022Z",
     "start_time": "2024-04-28T19:34:34.658100600Z"
    }
   },
   "outputs": [
    {
     "data": {
      "text/plain": "   work_year experience_level employment_type       job_title  salary  \\\n0       2024               EN              FT  Data Scientist  198600   \n1       2024               EN              FT  Data Scientist   94300   \n2       2024               SE              FT    Data Science  135800   \n3       2024               SE              FT    Data Science   95100   \n4       2024               EN              FT    Data Science   86900   \n\n  salary_currency  salary_in_usd employee_residence  remote_ratio  \\\n0             USD         198600                 US             0   \n1             USD          94300                 US             0   \n2             USD         135800                 US           100   \n3             USD          95100                 US           100   \n4             USD          86900                 US           100   \n\n  company_location company_size iso_3_employ_residence  \n0               US            M                    USA  \n1               US            M                    USA  \n2               US            M                    USA  \n3               US            M                    USA  \n4               US            M                    USA  ",
      "text/html": "<div>\n<style scoped>\n    .dataframe tbody tr th:only-of-type {\n        vertical-align: middle;\n    }\n\n    .dataframe tbody tr th {\n        vertical-align: top;\n    }\n\n    .dataframe thead th {\n        text-align: right;\n    }\n</style>\n<table border=\"1\" class=\"dataframe\">\n  <thead>\n    <tr style=\"text-align: right;\">\n      <th></th>\n      <th>work_year</th>\n      <th>experience_level</th>\n      <th>employment_type</th>\n      <th>job_title</th>\n      <th>salary</th>\n      <th>salary_currency</th>\n      <th>salary_in_usd</th>\n      <th>employee_residence</th>\n      <th>remote_ratio</th>\n      <th>company_location</th>\n      <th>company_size</th>\n      <th>iso_3_employ_residence</th>\n    </tr>\n  </thead>\n  <tbody>\n    <tr>\n      <th>0</th>\n      <td>2024</td>\n      <td>EN</td>\n      <td>FT</td>\n      <td>Data Scientist</td>\n      <td>198600</td>\n      <td>USD</td>\n      <td>198600</td>\n      <td>US</td>\n      <td>0</td>\n      <td>US</td>\n      <td>M</td>\n      <td>USA</td>\n    </tr>\n    <tr>\n      <th>1</th>\n      <td>2024</td>\n      <td>EN</td>\n      <td>FT</td>\n      <td>Data Scientist</td>\n      <td>94300</td>\n      <td>USD</td>\n      <td>94300</td>\n      <td>US</td>\n      <td>0</td>\n      <td>US</td>\n      <td>M</td>\n      <td>USA</td>\n    </tr>\n    <tr>\n      <th>2</th>\n      <td>2024</td>\n      <td>SE</td>\n      <td>FT</td>\n      <td>Data Science</td>\n      <td>135800</td>\n      <td>USD</td>\n      <td>135800</td>\n      <td>US</td>\n      <td>100</td>\n      <td>US</td>\n      <td>M</td>\n      <td>USA</td>\n    </tr>\n    <tr>\n      <th>3</th>\n      <td>2024</td>\n      <td>SE</td>\n      <td>FT</td>\n      <td>Data Science</td>\n      <td>95100</td>\n      <td>USD</td>\n      <td>95100</td>\n      <td>US</td>\n      <td>100</td>\n      <td>US</td>\n      <td>M</td>\n      <td>USA</td>\n    </tr>\n    <tr>\n      <th>4</th>\n      <td>2024</td>\n      <td>EN</td>\n      <td>FT</td>\n      <td>Data Science</td>\n      <td>86900</td>\n      <td>USD</td>\n      <td>86900</td>\n      <td>US</td>\n      <td>100</td>\n      <td>US</td>\n      <td>M</td>\n      <td>USA</td>\n    </tr>\n  </tbody>\n</table>\n</div>"
     },
     "execution_count": 140,
     "metadata": {},
     "output_type": "execute_result"
    }
   ],
   "source": [
    "#Converting iso-3166 country codes to iso-3 country codes\n",
    "iso_3166 = df['employee_residence'].to_list()\n",
    "df['iso_3_employ_residence'] = coco.convert(names = iso_3166, src = 'ISO2', to = 'ISO3')\n",
    "df.head()\n"
   ]
  },
  {
   "cell_type": "code",
   "execution_count": 141,
   "id": "57551e2d",
   "metadata": {
    "ExecuteTime": {
     "end_time": "2024-04-28T19:34:45.297555400Z",
     "start_time": "2024-04-28T19:34:45.157022Z"
    }
   },
   "outputs": [
    {
     "data": {
      "application/vnd.plotly.v1+json": {
       "data": [
        {
         "coloraxis": "coloraxis",
         "geo": "geo",
         "hovertemplate": "<b>%{hovertext}</b><br><br>iso_3_employ_residence=%{location}<br>Average Salary=%{z}<extra></extra>",
         "hovertext": [
          "AND",
          "ARE",
          "ARG",
          "ARM",
          "ASM",
          "AUS",
          "AUT",
          "BEL",
          "BGR",
          "BIH",
          "BOL",
          "BRA",
          "CAF",
          "CAN",
          "CHE",
          "CHL",
          "CHN",
          "COL",
          "CRI",
          "CYP",
          "CZE",
          "DEU",
          "DNK",
          "DOM",
          "DZA",
          "ECU",
          "EGY",
          "ESP",
          "EST",
          "FIN",
          "FRA",
          "GBR",
          "GEO",
          "GHA",
          "GRC",
          "HKG",
          "HND",
          "HRV",
          "HUN",
          "IDN",
          "IND",
          "IRL",
          "IRN",
          "IRQ",
          "ISR",
          "ITA",
          "JEY",
          "JPN",
          "KEN",
          "KOR",
          "KWT",
          "LBN",
          "LTU",
          "LUX",
          "LVA",
          "MDA",
          "MEX",
          "MLT",
          "MUS",
          "MYS",
          "NGA",
          "NLD",
          "NOR",
          "NZL",
          "OMN",
          "PAK",
          "PER",
          "PHL",
          "POL",
          "PRI",
          "PRT",
          "QAT",
          "ROU",
          "RUS",
          "SAU",
          "SGP",
          "SRB",
          "SVN",
          "SWE",
          "THA",
          "TUN",
          "TUR",
          "UGA",
          "UKR",
          "USA",
          "UZB",
          "VNM",
          "ZAF"
         ],
         "locationmode": "ISO-3",
         "locations": [
          "AND",
          "ARE",
          "ARG",
          "ARM",
          "ASM",
          "AUS",
          "AUT",
          "BEL",
          "BGR",
          "BIH",
          "BOL",
          "BRA",
          "CAF",
          "CAN",
          "CHE",
          "CHL",
          "CHN",
          "COL",
          "CRI",
          "CYP",
          "CZE",
          "DEU",
          "DNK",
          "DOM",
          "DZA",
          "ECU",
          "EGY",
          "ESP",
          "EST",
          "FIN",
          "FRA",
          "GBR",
          "GEO",
          "GHA",
          "GRC",
          "HKG",
          "HND",
          "HRV",
          "HUN",
          "IDN",
          "IND",
          "IRL",
          "IRN",
          "IRQ",
          "ISR",
          "ITA",
          "JEY",
          "JPN",
          "KEN",
          "KOR",
          "KWT",
          "LBN",
          "LTU",
          "LUX",
          "LVA",
          "MDA",
          "MEX",
          "MLT",
          "MUS",
          "MYS",
          "NGA",
          "NLD",
          "NOR",
          "NZL",
          "OMN",
          "PAK",
          "PER",
          "PHL",
          "POL",
          "PRI",
          "PRT",
          "QAT",
          "ROU",
          "RUS",
          "SAU",
          "SGP",
          "SRB",
          "SVN",
          "SWE",
          "THA",
          "TUN",
          "TUR",
          "UGA",
          "UKR",
          "USA",
          "UZB",
          "VNM",
          "ZAF"
         ],
         "name": "",
         "z": [
          50745.0,
          86000.0,
          58461.53846153846,
          33500.0,
          45555.0,
          130023.61111111111,
          65778.5,
          95565.83333333333,
          80000.0,
          75000.0,
          75000.0,
          61061.625,
          49216.0,
          145576.88387096775,
          137187.5,
          72519.0,
          125404.0,
          79115.25,
          20000.0,
          63701.0,
          59999.5,
          103537.34,
          52806.25,
          110000.0,
          100000.0,
          16000.0,
          135807.14285714287,
          58171.824817518245,
          43941.818181818184,
          64917.6,
          87811.66666666667,
          93084.2335243553,
          53500.0,
          34250.0,
          53866.23529411765,
          65540.0,
          20000.0,
          84751.83333333333,
          33169.5,
          15000.0,
          47010.46835443038,
          104694.91666666667,
          100000.0,
          100000.0,
          262515.0,
          54867.666666666664,
          100000.0,
          95821.625,
          50000.0,
          47000.0,
          50000.0,
          71750.0,
          61942.35,
          59102.0,
          57059.6875,
          66500.0,
          134186.35714285713,
          50423.0,
          100000.0,
          200000.0,
          52416.666666666664,
          76268.4375,
          88462.0,
          146761.25,
          46848.0,
          38536.166666666664,
          27000.0,
          53667.555555555555,
          78104.26666666666,
          166000.0,
          53920.96666666667,
          300000.0,
          44338.0,
          79242.5,
          139999.33333333334,
          83092.6,
          25532.0,
          56186.333333333336,
          105000.0,
          32228.5,
          90234.5,
          34186.5,
          36000.0,
          98272.72727272728,
          157235.60022863292,
          82000.0,
          56733.333333333336,
          53488.68421052631
         ],
         "type": "choropleth"
        }
       ],
       "layout": {
        "template": {
         "data": {
          "histogram2dcontour": [
           {
            "type": "histogram2dcontour",
            "colorbar": {
             "outlinewidth": 0,
             "ticks": ""
            },
            "colorscale": [
             [
              0.0,
              "#0d0887"
             ],
             [
              0.1111111111111111,
              "#46039f"
             ],
             [
              0.2222222222222222,
              "#7201a8"
             ],
             [
              0.3333333333333333,
              "#9c179e"
             ],
             [
              0.4444444444444444,
              "#bd3786"
             ],
             [
              0.5555555555555556,
              "#d8576b"
             ],
             [
              0.6666666666666666,
              "#ed7953"
             ],
             [
              0.7777777777777778,
              "#fb9f3a"
             ],
             [
              0.8888888888888888,
              "#fdca26"
             ],
             [
              1.0,
              "#f0f921"
             ]
            ]
           }
          ],
          "choropleth": [
           {
            "type": "choropleth",
            "colorbar": {
             "outlinewidth": 0,
             "ticks": ""
            }
           }
          ],
          "histogram2d": [
           {
            "type": "histogram2d",
            "colorbar": {
             "outlinewidth": 0,
             "ticks": ""
            },
            "colorscale": [
             [
              0.0,
              "#0d0887"
             ],
             [
              0.1111111111111111,
              "#46039f"
             ],
             [
              0.2222222222222222,
              "#7201a8"
             ],
             [
              0.3333333333333333,
              "#9c179e"
             ],
             [
              0.4444444444444444,
              "#bd3786"
             ],
             [
              0.5555555555555556,
              "#d8576b"
             ],
             [
              0.6666666666666666,
              "#ed7953"
             ],
             [
              0.7777777777777778,
              "#fb9f3a"
             ],
             [
              0.8888888888888888,
              "#fdca26"
             ],
             [
              1.0,
              "#f0f921"
             ]
            ]
           }
          ],
          "heatmap": [
           {
            "type": "heatmap",
            "colorbar": {
             "outlinewidth": 0,
             "ticks": ""
            },
            "colorscale": [
             [
              0.0,
              "#0d0887"
             ],
             [
              0.1111111111111111,
              "#46039f"
             ],
             [
              0.2222222222222222,
              "#7201a8"
             ],
             [
              0.3333333333333333,
              "#9c179e"
             ],
             [
              0.4444444444444444,
              "#bd3786"
             ],
             [
              0.5555555555555556,
              "#d8576b"
             ],
             [
              0.6666666666666666,
              "#ed7953"
             ],
             [
              0.7777777777777778,
              "#fb9f3a"
             ],
             [
              0.8888888888888888,
              "#fdca26"
             ],
             [
              1.0,
              "#f0f921"
             ]
            ]
           }
          ],
          "heatmapgl": [
           {
            "type": "heatmapgl",
            "colorbar": {
             "outlinewidth": 0,
             "ticks": ""
            },
            "colorscale": [
             [
              0.0,
              "#0d0887"
             ],
             [
              0.1111111111111111,
              "#46039f"
             ],
             [
              0.2222222222222222,
              "#7201a8"
             ],
             [
              0.3333333333333333,
              "#9c179e"
             ],
             [
              0.4444444444444444,
              "#bd3786"
             ],
             [
              0.5555555555555556,
              "#d8576b"
             ],
             [
              0.6666666666666666,
              "#ed7953"
             ],
             [
              0.7777777777777778,
              "#fb9f3a"
             ],
             [
              0.8888888888888888,
              "#fdca26"
             ],
             [
              1.0,
              "#f0f921"
             ]
            ]
           }
          ],
          "contourcarpet": [
           {
            "type": "contourcarpet",
            "colorbar": {
             "outlinewidth": 0,
             "ticks": ""
            }
           }
          ],
          "contour": [
           {
            "type": "contour",
            "colorbar": {
             "outlinewidth": 0,
             "ticks": ""
            },
            "colorscale": [
             [
              0.0,
              "#0d0887"
             ],
             [
              0.1111111111111111,
              "#46039f"
             ],
             [
              0.2222222222222222,
              "#7201a8"
             ],
             [
              0.3333333333333333,
              "#9c179e"
             ],
             [
              0.4444444444444444,
              "#bd3786"
             ],
             [
              0.5555555555555556,
              "#d8576b"
             ],
             [
              0.6666666666666666,
              "#ed7953"
             ],
             [
              0.7777777777777778,
              "#fb9f3a"
             ],
             [
              0.8888888888888888,
              "#fdca26"
             ],
             [
              1.0,
              "#f0f921"
             ]
            ]
           }
          ],
          "surface": [
           {
            "type": "surface",
            "colorbar": {
             "outlinewidth": 0,
             "ticks": ""
            },
            "colorscale": [
             [
              0.0,
              "#0d0887"
             ],
             [
              0.1111111111111111,
              "#46039f"
             ],
             [
              0.2222222222222222,
              "#7201a8"
             ],
             [
              0.3333333333333333,
              "#9c179e"
             ],
             [
              0.4444444444444444,
              "#bd3786"
             ],
             [
              0.5555555555555556,
              "#d8576b"
             ],
             [
              0.6666666666666666,
              "#ed7953"
             ],
             [
              0.7777777777777778,
              "#fb9f3a"
             ],
             [
              0.8888888888888888,
              "#fdca26"
             ],
             [
              1.0,
              "#f0f921"
             ]
            ]
           }
          ],
          "mesh3d": [
           {
            "type": "mesh3d",
            "colorbar": {
             "outlinewidth": 0,
             "ticks": ""
            }
           }
          ],
          "scatter": [
           {
            "marker": {
             "line": {
              "color": "#283442"
             }
            },
            "type": "scatter"
           }
          ],
          "parcoords": [
           {
            "type": "parcoords",
            "line": {
             "colorbar": {
              "outlinewidth": 0,
              "ticks": ""
             }
            }
           }
          ],
          "scatterpolargl": [
           {
            "type": "scatterpolargl",
            "marker": {
             "colorbar": {
              "outlinewidth": 0,
              "ticks": ""
             }
            }
           }
          ],
          "bar": [
           {
            "error_x": {
             "color": "#f2f5fa"
            },
            "error_y": {
             "color": "#f2f5fa"
            },
            "marker": {
             "line": {
              "color": "rgb(17,17,17)",
              "width": 0.5
             },
             "pattern": {
              "fillmode": "overlay",
              "size": 10,
              "solidity": 0.2
             }
            },
            "type": "bar"
           }
          ],
          "scattergeo": [
           {
            "type": "scattergeo",
            "marker": {
             "colorbar": {
              "outlinewidth": 0,
              "ticks": ""
             }
            }
           }
          ],
          "scatterpolar": [
           {
            "type": "scatterpolar",
            "marker": {
             "colorbar": {
              "outlinewidth": 0,
              "ticks": ""
             }
            }
           }
          ],
          "histogram": [
           {
            "marker": {
             "pattern": {
              "fillmode": "overlay",
              "size": 10,
              "solidity": 0.2
             }
            },
            "type": "histogram"
           }
          ],
          "scattergl": [
           {
            "marker": {
             "line": {
              "color": "#283442"
             }
            },
            "type": "scattergl"
           }
          ],
          "scatter3d": [
           {
            "type": "scatter3d",
            "line": {
             "colorbar": {
              "outlinewidth": 0,
              "ticks": ""
             }
            },
            "marker": {
             "colorbar": {
              "outlinewidth": 0,
              "ticks": ""
             }
            }
           }
          ],
          "scattermapbox": [
           {
            "type": "scattermapbox",
            "marker": {
             "colorbar": {
              "outlinewidth": 0,
              "ticks": ""
             }
            }
           }
          ],
          "scatterternary": [
           {
            "type": "scatterternary",
            "marker": {
             "colorbar": {
              "outlinewidth": 0,
              "ticks": ""
             }
            }
           }
          ],
          "scattercarpet": [
           {
            "type": "scattercarpet",
            "marker": {
             "colorbar": {
              "outlinewidth": 0,
              "ticks": ""
             }
            }
           }
          ],
          "carpet": [
           {
            "aaxis": {
             "endlinecolor": "#A2B1C6",
             "gridcolor": "#506784",
             "linecolor": "#506784",
             "minorgridcolor": "#506784",
             "startlinecolor": "#A2B1C6"
            },
            "baxis": {
             "endlinecolor": "#A2B1C6",
             "gridcolor": "#506784",
             "linecolor": "#506784",
             "minorgridcolor": "#506784",
             "startlinecolor": "#A2B1C6"
            },
            "type": "carpet"
           }
          ],
          "table": [
           {
            "cells": {
             "fill": {
              "color": "#506784"
             },
             "line": {
              "color": "rgb(17,17,17)"
             }
            },
            "header": {
             "fill": {
              "color": "#2a3f5f"
             },
             "line": {
              "color": "rgb(17,17,17)"
             }
            },
            "type": "table"
           }
          ],
          "barpolar": [
           {
            "marker": {
             "line": {
              "color": "rgb(17,17,17)",
              "width": 0.5
             },
             "pattern": {
              "fillmode": "overlay",
              "size": 10,
              "solidity": 0.2
             }
            },
            "type": "barpolar"
           }
          ],
          "pie": [
           {
            "automargin": true,
            "type": "pie"
           }
          ]
         },
         "layout": {
          "autotypenumbers": "strict",
          "colorway": [
           "#636efa",
           "#EF553B",
           "#00cc96",
           "#ab63fa",
           "#FFA15A",
           "#19d3f3",
           "#FF6692",
           "#B6E880",
           "#FF97FF",
           "#FECB52"
          ],
          "font": {
           "color": "#f2f5fa"
          },
          "hovermode": "closest",
          "hoverlabel": {
           "align": "left"
          },
          "paper_bgcolor": "rgb(17,17,17)",
          "plot_bgcolor": "rgb(17,17,17)",
          "polar": {
           "bgcolor": "rgb(17,17,17)",
           "angularaxis": {
            "gridcolor": "#506784",
            "linecolor": "#506784",
            "ticks": ""
           },
           "radialaxis": {
            "gridcolor": "#506784",
            "linecolor": "#506784",
            "ticks": ""
           }
          },
          "ternary": {
           "bgcolor": "rgb(17,17,17)",
           "aaxis": {
            "gridcolor": "#506784",
            "linecolor": "#506784",
            "ticks": ""
           },
           "baxis": {
            "gridcolor": "#506784",
            "linecolor": "#506784",
            "ticks": ""
           },
           "caxis": {
            "gridcolor": "#506784",
            "linecolor": "#506784",
            "ticks": ""
           }
          },
          "coloraxis": {
           "colorbar": {
            "outlinewidth": 0,
            "ticks": ""
           }
          },
          "colorscale": {
           "sequential": [
            [
             0.0,
             "#0d0887"
            ],
            [
             0.1111111111111111,
             "#46039f"
            ],
            [
             0.2222222222222222,
             "#7201a8"
            ],
            [
             0.3333333333333333,
             "#9c179e"
            ],
            [
             0.4444444444444444,
             "#bd3786"
            ],
            [
             0.5555555555555556,
             "#d8576b"
            ],
            [
             0.6666666666666666,
             "#ed7953"
            ],
            [
             0.7777777777777778,
             "#fb9f3a"
            ],
            [
             0.8888888888888888,
             "#fdca26"
            ],
            [
             1.0,
             "#f0f921"
            ]
           ],
           "sequentialminus": [
            [
             0.0,
             "#0d0887"
            ],
            [
             0.1111111111111111,
             "#46039f"
            ],
            [
             0.2222222222222222,
             "#7201a8"
            ],
            [
             0.3333333333333333,
             "#9c179e"
            ],
            [
             0.4444444444444444,
             "#bd3786"
            ],
            [
             0.5555555555555556,
             "#d8576b"
            ],
            [
             0.6666666666666666,
             "#ed7953"
            ],
            [
             0.7777777777777778,
             "#fb9f3a"
            ],
            [
             0.8888888888888888,
             "#fdca26"
            ],
            [
             1.0,
             "#f0f921"
            ]
           ],
           "diverging": [
            [
             0,
             "#8e0152"
            ],
            [
             0.1,
             "#c51b7d"
            ],
            [
             0.2,
             "#de77ae"
            ],
            [
             0.3,
             "#f1b6da"
            ],
            [
             0.4,
             "#fde0ef"
            ],
            [
             0.5,
             "#f7f7f7"
            ],
            [
             0.6,
             "#e6f5d0"
            ],
            [
             0.7,
             "#b8e186"
            ],
            [
             0.8,
             "#7fbc41"
            ],
            [
             0.9,
             "#4d9221"
            ],
            [
             1,
             "#276419"
            ]
           ]
          },
          "xaxis": {
           "gridcolor": "#283442",
           "linecolor": "#506784",
           "ticks": "",
           "title": {
            "standoff": 15
           },
           "zerolinecolor": "#283442",
           "automargin": true,
           "zerolinewidth": 2
          },
          "yaxis": {
           "gridcolor": "#283442",
           "linecolor": "#506784",
           "ticks": "",
           "title": {
            "standoff": 15
           },
           "zerolinecolor": "#283442",
           "automargin": true,
           "zerolinewidth": 2
          },
          "scene": {
           "xaxis": {
            "backgroundcolor": "rgb(17,17,17)",
            "gridcolor": "#506784",
            "linecolor": "#506784",
            "showbackground": true,
            "ticks": "",
            "zerolinecolor": "#C8D4E3",
            "gridwidth": 2
           },
           "yaxis": {
            "backgroundcolor": "rgb(17,17,17)",
            "gridcolor": "#506784",
            "linecolor": "#506784",
            "showbackground": true,
            "ticks": "",
            "zerolinecolor": "#C8D4E3",
            "gridwidth": 2
           },
           "zaxis": {
            "backgroundcolor": "rgb(17,17,17)",
            "gridcolor": "#506784",
            "linecolor": "#506784",
            "showbackground": true,
            "ticks": "",
            "zerolinecolor": "#C8D4E3",
            "gridwidth": 2
           }
          },
          "shapedefaults": {
           "line": {
            "color": "#f2f5fa"
           }
          },
          "annotationdefaults": {
           "arrowcolor": "#f2f5fa",
           "arrowhead": 0,
           "arrowwidth": 1
          },
          "geo": {
           "bgcolor": "rgb(17,17,17)",
           "landcolor": "rgb(17,17,17)",
           "subunitcolor": "#506784",
           "showland": true,
           "showlakes": true,
           "lakecolor": "rgb(17,17,17)"
          },
          "title": {
           "x": 0.05
          },
          "updatemenudefaults": {
           "bgcolor": "#506784",
           "borderwidth": 0
          },
          "sliderdefaults": {
           "bgcolor": "#C8D4E3",
           "borderwidth": 1,
           "bordercolor": "rgb(17,17,17)",
           "tickwidth": 0
          },
          "mapbox": {
           "style": "dark"
          }
         }
        },
        "geo": {
         "domain": {
          "x": [
           0.0,
           1.0
          ],
          "y": [
           0.0,
           1.0
          ]
         },
         "center": {},
         "projection": {
          "type": "natural earth"
         },
         "showcoastlines": true
        },
        "coloraxis": {
         "colorbar": {
          "title": {
           "text": "Average Salary"
          }
         },
         "colorscale": [
          [
           0.0,
           "#0d0887"
          ],
          [
           0.1111111111111111,
           "#46039f"
          ],
          [
           0.2222222222222222,
           "#7201a8"
          ],
          [
           0.3333333333333333,
           "#9c179e"
          ],
          [
           0.4444444444444444,
           "#bd3786"
          ],
          [
           0.5555555555555556,
           "#d8576b"
          ],
          [
           0.6666666666666666,
           "#ed7953"
          ],
          [
           0.7777777777777778,
           "#fb9f3a"
          ],
          [
           0.8888888888888888,
           "#fdca26"
          ],
          [
           1.0,
           "#f0f921"
          ]
         ]
        },
        "legend": {
         "tracegroupgap": 0
        },
        "margin": {
         "t": 60
        },
        "title": {
         "text": "World Map - Average Salary"
        }
       },
       "config": {
        "plotlyServerURL": "https://plot.ly"
       }
      },
      "text/html": "<div>                            <div id=\"58a8445a-a3d0-4825-bdb6-a47cb3b717c3\" class=\"plotly-graph-div\" style=\"height:525px; width:100%;\"></div>            <script type=\"text/javascript\">                require([\"plotly\"], function(Plotly) {                    window.PLOTLYENV=window.PLOTLYENV || {};                                    if (document.getElementById(\"58a8445a-a3d0-4825-bdb6-a47cb3b717c3\")) {                    Plotly.newPlot(                        \"58a8445a-a3d0-4825-bdb6-a47cb3b717c3\",                        [{\"coloraxis\":\"coloraxis\",\"geo\":\"geo\",\"hovertemplate\":\"<b>%{hovertext}</b><br><br>iso_3_employ_residence=%{location}<br>Average Salary=%{z}<extra></extra>\",\"hovertext\":[\"AND\",\"ARE\",\"ARG\",\"ARM\",\"ASM\",\"AUS\",\"AUT\",\"BEL\",\"BGR\",\"BIH\",\"BOL\",\"BRA\",\"CAF\",\"CAN\",\"CHE\",\"CHL\",\"CHN\",\"COL\",\"CRI\",\"CYP\",\"CZE\",\"DEU\",\"DNK\",\"DOM\",\"DZA\",\"ECU\",\"EGY\",\"ESP\",\"EST\",\"FIN\",\"FRA\",\"GBR\",\"GEO\",\"GHA\",\"GRC\",\"HKG\",\"HND\",\"HRV\",\"HUN\",\"IDN\",\"IND\",\"IRL\",\"IRN\",\"IRQ\",\"ISR\",\"ITA\",\"JEY\",\"JPN\",\"KEN\",\"KOR\",\"KWT\",\"LBN\",\"LTU\",\"LUX\",\"LVA\",\"MDA\",\"MEX\",\"MLT\",\"MUS\",\"MYS\",\"NGA\",\"NLD\",\"NOR\",\"NZL\",\"OMN\",\"PAK\",\"PER\",\"PHL\",\"POL\",\"PRI\",\"PRT\",\"QAT\",\"ROU\",\"RUS\",\"SAU\",\"SGP\",\"SRB\",\"SVN\",\"SWE\",\"THA\",\"TUN\",\"TUR\",\"UGA\",\"UKR\",\"USA\",\"UZB\",\"VNM\",\"ZAF\"],\"locationmode\":\"ISO-3\",\"locations\":[\"AND\",\"ARE\",\"ARG\",\"ARM\",\"ASM\",\"AUS\",\"AUT\",\"BEL\",\"BGR\",\"BIH\",\"BOL\",\"BRA\",\"CAF\",\"CAN\",\"CHE\",\"CHL\",\"CHN\",\"COL\",\"CRI\",\"CYP\",\"CZE\",\"DEU\",\"DNK\",\"DOM\",\"DZA\",\"ECU\",\"EGY\",\"ESP\",\"EST\",\"FIN\",\"FRA\",\"GBR\",\"GEO\",\"GHA\",\"GRC\",\"HKG\",\"HND\",\"HRV\",\"HUN\",\"IDN\",\"IND\",\"IRL\",\"IRN\",\"IRQ\",\"ISR\",\"ITA\",\"JEY\",\"JPN\",\"KEN\",\"KOR\",\"KWT\",\"LBN\",\"LTU\",\"LUX\",\"LVA\",\"MDA\",\"MEX\",\"MLT\",\"MUS\",\"MYS\",\"NGA\",\"NLD\",\"NOR\",\"NZL\",\"OMN\",\"PAK\",\"PER\",\"PHL\",\"POL\",\"PRI\",\"PRT\",\"QAT\",\"ROU\",\"RUS\",\"SAU\",\"SGP\",\"SRB\",\"SVN\",\"SWE\",\"THA\",\"TUN\",\"TUR\",\"UGA\",\"UKR\",\"USA\",\"UZB\",\"VNM\",\"ZAF\"],\"name\":\"\",\"z\":[50745.0,86000.0,58461.53846153846,33500.0,45555.0,130023.61111111111,65778.5,95565.83333333333,80000.0,75000.0,75000.0,61061.625,49216.0,145576.88387096775,137187.5,72519.0,125404.0,79115.25,20000.0,63701.0,59999.5,103537.34,52806.25,110000.0,100000.0,16000.0,135807.14285714287,58171.824817518245,43941.818181818184,64917.6,87811.66666666667,93084.2335243553,53500.0,34250.0,53866.23529411765,65540.0,20000.0,84751.83333333333,33169.5,15000.0,47010.46835443038,104694.91666666667,100000.0,100000.0,262515.0,54867.666666666664,100000.0,95821.625,50000.0,47000.0,50000.0,71750.0,61942.35,59102.0,57059.6875,66500.0,134186.35714285713,50423.0,100000.0,200000.0,52416.666666666664,76268.4375,88462.0,146761.25,46848.0,38536.166666666664,27000.0,53667.555555555555,78104.26666666666,166000.0,53920.96666666667,300000.0,44338.0,79242.5,139999.33333333334,83092.6,25532.0,56186.333333333336,105000.0,32228.5,90234.5,34186.5,36000.0,98272.72727272728,157235.60022863292,82000.0,56733.333333333336,53488.68421052631],\"type\":\"choropleth\"}],                        {\"template\":{\"data\":{\"histogram2dcontour\":[{\"type\":\"histogram2dcontour\",\"colorbar\":{\"outlinewidth\":0,\"ticks\":\"\"},\"colorscale\":[[0.0,\"#0d0887\"],[0.1111111111111111,\"#46039f\"],[0.2222222222222222,\"#7201a8\"],[0.3333333333333333,\"#9c179e\"],[0.4444444444444444,\"#bd3786\"],[0.5555555555555556,\"#d8576b\"],[0.6666666666666666,\"#ed7953\"],[0.7777777777777778,\"#fb9f3a\"],[0.8888888888888888,\"#fdca26\"],[1.0,\"#f0f921\"]]}],\"choropleth\":[{\"type\":\"choropleth\",\"colorbar\":{\"outlinewidth\":0,\"ticks\":\"\"}}],\"histogram2d\":[{\"type\":\"histogram2d\",\"colorbar\":{\"outlinewidth\":0,\"ticks\":\"\"},\"colorscale\":[[0.0,\"#0d0887\"],[0.1111111111111111,\"#46039f\"],[0.2222222222222222,\"#7201a8\"],[0.3333333333333333,\"#9c179e\"],[0.4444444444444444,\"#bd3786\"],[0.5555555555555556,\"#d8576b\"],[0.6666666666666666,\"#ed7953\"],[0.7777777777777778,\"#fb9f3a\"],[0.8888888888888888,\"#fdca26\"],[1.0,\"#f0f921\"]]}],\"heatmap\":[{\"type\":\"heatmap\",\"colorbar\":{\"outlinewidth\":0,\"ticks\":\"\"},\"colorscale\":[[0.0,\"#0d0887\"],[0.1111111111111111,\"#46039f\"],[0.2222222222222222,\"#7201a8\"],[0.3333333333333333,\"#9c179e\"],[0.4444444444444444,\"#bd3786\"],[0.5555555555555556,\"#d8576b\"],[0.6666666666666666,\"#ed7953\"],[0.7777777777777778,\"#fb9f3a\"],[0.8888888888888888,\"#fdca26\"],[1.0,\"#f0f921\"]]}],\"heatmapgl\":[{\"type\":\"heatmapgl\",\"colorbar\":{\"outlinewidth\":0,\"ticks\":\"\"},\"colorscale\":[[0.0,\"#0d0887\"],[0.1111111111111111,\"#46039f\"],[0.2222222222222222,\"#7201a8\"],[0.3333333333333333,\"#9c179e\"],[0.4444444444444444,\"#bd3786\"],[0.5555555555555556,\"#d8576b\"],[0.6666666666666666,\"#ed7953\"],[0.7777777777777778,\"#fb9f3a\"],[0.8888888888888888,\"#fdca26\"],[1.0,\"#f0f921\"]]}],\"contourcarpet\":[{\"type\":\"contourcarpet\",\"colorbar\":{\"outlinewidth\":0,\"ticks\":\"\"}}],\"contour\":[{\"type\":\"contour\",\"colorbar\":{\"outlinewidth\":0,\"ticks\":\"\"},\"colorscale\":[[0.0,\"#0d0887\"],[0.1111111111111111,\"#46039f\"],[0.2222222222222222,\"#7201a8\"],[0.3333333333333333,\"#9c179e\"],[0.4444444444444444,\"#bd3786\"],[0.5555555555555556,\"#d8576b\"],[0.6666666666666666,\"#ed7953\"],[0.7777777777777778,\"#fb9f3a\"],[0.8888888888888888,\"#fdca26\"],[1.0,\"#f0f921\"]]}],\"surface\":[{\"type\":\"surface\",\"colorbar\":{\"outlinewidth\":0,\"ticks\":\"\"},\"colorscale\":[[0.0,\"#0d0887\"],[0.1111111111111111,\"#46039f\"],[0.2222222222222222,\"#7201a8\"],[0.3333333333333333,\"#9c179e\"],[0.4444444444444444,\"#bd3786\"],[0.5555555555555556,\"#d8576b\"],[0.6666666666666666,\"#ed7953\"],[0.7777777777777778,\"#fb9f3a\"],[0.8888888888888888,\"#fdca26\"],[1.0,\"#f0f921\"]]}],\"mesh3d\":[{\"type\":\"mesh3d\",\"colorbar\":{\"outlinewidth\":0,\"ticks\":\"\"}}],\"scatter\":[{\"marker\":{\"line\":{\"color\":\"#283442\"}},\"type\":\"scatter\"}],\"parcoords\":[{\"type\":\"parcoords\",\"line\":{\"colorbar\":{\"outlinewidth\":0,\"ticks\":\"\"}}}],\"scatterpolargl\":[{\"type\":\"scatterpolargl\",\"marker\":{\"colorbar\":{\"outlinewidth\":0,\"ticks\":\"\"}}}],\"bar\":[{\"error_x\":{\"color\":\"#f2f5fa\"},\"error_y\":{\"color\":\"#f2f5fa\"},\"marker\":{\"line\":{\"color\":\"rgb(17,17,17)\",\"width\":0.5},\"pattern\":{\"fillmode\":\"overlay\",\"size\":10,\"solidity\":0.2}},\"type\":\"bar\"}],\"scattergeo\":[{\"type\":\"scattergeo\",\"marker\":{\"colorbar\":{\"outlinewidth\":0,\"ticks\":\"\"}}}],\"scatterpolar\":[{\"type\":\"scatterpolar\",\"marker\":{\"colorbar\":{\"outlinewidth\":0,\"ticks\":\"\"}}}],\"histogram\":[{\"marker\":{\"pattern\":{\"fillmode\":\"overlay\",\"size\":10,\"solidity\":0.2}},\"type\":\"histogram\"}],\"scattergl\":[{\"marker\":{\"line\":{\"color\":\"#283442\"}},\"type\":\"scattergl\"}],\"scatter3d\":[{\"type\":\"scatter3d\",\"line\":{\"colorbar\":{\"outlinewidth\":0,\"ticks\":\"\"}},\"marker\":{\"colorbar\":{\"outlinewidth\":0,\"ticks\":\"\"}}}],\"scattermapbox\":[{\"type\":\"scattermapbox\",\"marker\":{\"colorbar\":{\"outlinewidth\":0,\"ticks\":\"\"}}}],\"scatterternary\":[{\"type\":\"scatterternary\",\"marker\":{\"colorbar\":{\"outlinewidth\":0,\"ticks\":\"\"}}}],\"scattercarpet\":[{\"type\":\"scattercarpet\",\"marker\":{\"colorbar\":{\"outlinewidth\":0,\"ticks\":\"\"}}}],\"carpet\":[{\"aaxis\":{\"endlinecolor\":\"#A2B1C6\",\"gridcolor\":\"#506784\",\"linecolor\":\"#506784\",\"minorgridcolor\":\"#506784\",\"startlinecolor\":\"#A2B1C6\"},\"baxis\":{\"endlinecolor\":\"#A2B1C6\",\"gridcolor\":\"#506784\",\"linecolor\":\"#506784\",\"minorgridcolor\":\"#506784\",\"startlinecolor\":\"#A2B1C6\"},\"type\":\"carpet\"}],\"table\":[{\"cells\":{\"fill\":{\"color\":\"#506784\"},\"line\":{\"color\":\"rgb(17,17,17)\"}},\"header\":{\"fill\":{\"color\":\"#2a3f5f\"},\"line\":{\"color\":\"rgb(17,17,17)\"}},\"type\":\"table\"}],\"barpolar\":[{\"marker\":{\"line\":{\"color\":\"rgb(17,17,17)\",\"width\":0.5},\"pattern\":{\"fillmode\":\"overlay\",\"size\":10,\"solidity\":0.2}},\"type\":\"barpolar\"}],\"pie\":[{\"automargin\":true,\"type\":\"pie\"}]},\"layout\":{\"autotypenumbers\":\"strict\",\"colorway\":[\"#636efa\",\"#EF553B\",\"#00cc96\",\"#ab63fa\",\"#FFA15A\",\"#19d3f3\",\"#FF6692\",\"#B6E880\",\"#FF97FF\",\"#FECB52\"],\"font\":{\"color\":\"#f2f5fa\"},\"hovermode\":\"closest\",\"hoverlabel\":{\"align\":\"left\"},\"paper_bgcolor\":\"rgb(17,17,17)\",\"plot_bgcolor\":\"rgb(17,17,17)\",\"polar\":{\"bgcolor\":\"rgb(17,17,17)\",\"angularaxis\":{\"gridcolor\":\"#506784\",\"linecolor\":\"#506784\",\"ticks\":\"\"},\"radialaxis\":{\"gridcolor\":\"#506784\",\"linecolor\":\"#506784\",\"ticks\":\"\"}},\"ternary\":{\"bgcolor\":\"rgb(17,17,17)\",\"aaxis\":{\"gridcolor\":\"#506784\",\"linecolor\":\"#506784\",\"ticks\":\"\"},\"baxis\":{\"gridcolor\":\"#506784\",\"linecolor\":\"#506784\",\"ticks\":\"\"},\"caxis\":{\"gridcolor\":\"#506784\",\"linecolor\":\"#506784\",\"ticks\":\"\"}},\"coloraxis\":{\"colorbar\":{\"outlinewidth\":0,\"ticks\":\"\"}},\"colorscale\":{\"sequential\":[[0.0,\"#0d0887\"],[0.1111111111111111,\"#46039f\"],[0.2222222222222222,\"#7201a8\"],[0.3333333333333333,\"#9c179e\"],[0.4444444444444444,\"#bd3786\"],[0.5555555555555556,\"#d8576b\"],[0.6666666666666666,\"#ed7953\"],[0.7777777777777778,\"#fb9f3a\"],[0.8888888888888888,\"#fdca26\"],[1.0,\"#f0f921\"]],\"sequentialminus\":[[0.0,\"#0d0887\"],[0.1111111111111111,\"#46039f\"],[0.2222222222222222,\"#7201a8\"],[0.3333333333333333,\"#9c179e\"],[0.4444444444444444,\"#bd3786\"],[0.5555555555555556,\"#d8576b\"],[0.6666666666666666,\"#ed7953\"],[0.7777777777777778,\"#fb9f3a\"],[0.8888888888888888,\"#fdca26\"],[1.0,\"#f0f921\"]],\"diverging\":[[0,\"#8e0152\"],[0.1,\"#c51b7d\"],[0.2,\"#de77ae\"],[0.3,\"#f1b6da\"],[0.4,\"#fde0ef\"],[0.5,\"#f7f7f7\"],[0.6,\"#e6f5d0\"],[0.7,\"#b8e186\"],[0.8,\"#7fbc41\"],[0.9,\"#4d9221\"],[1,\"#276419\"]]},\"xaxis\":{\"gridcolor\":\"#283442\",\"linecolor\":\"#506784\",\"ticks\":\"\",\"title\":{\"standoff\":15},\"zerolinecolor\":\"#283442\",\"automargin\":true,\"zerolinewidth\":2},\"yaxis\":{\"gridcolor\":\"#283442\",\"linecolor\":\"#506784\",\"ticks\":\"\",\"title\":{\"standoff\":15},\"zerolinecolor\":\"#283442\",\"automargin\":true,\"zerolinewidth\":2},\"scene\":{\"xaxis\":{\"backgroundcolor\":\"rgb(17,17,17)\",\"gridcolor\":\"#506784\",\"linecolor\":\"#506784\",\"showbackground\":true,\"ticks\":\"\",\"zerolinecolor\":\"#C8D4E3\",\"gridwidth\":2},\"yaxis\":{\"backgroundcolor\":\"rgb(17,17,17)\",\"gridcolor\":\"#506784\",\"linecolor\":\"#506784\",\"showbackground\":true,\"ticks\":\"\",\"zerolinecolor\":\"#C8D4E3\",\"gridwidth\":2},\"zaxis\":{\"backgroundcolor\":\"rgb(17,17,17)\",\"gridcolor\":\"#506784\",\"linecolor\":\"#506784\",\"showbackground\":true,\"ticks\":\"\",\"zerolinecolor\":\"#C8D4E3\",\"gridwidth\":2}},\"shapedefaults\":{\"line\":{\"color\":\"#f2f5fa\"}},\"annotationdefaults\":{\"arrowcolor\":\"#f2f5fa\",\"arrowhead\":0,\"arrowwidth\":1},\"geo\":{\"bgcolor\":\"rgb(17,17,17)\",\"landcolor\":\"rgb(17,17,17)\",\"subunitcolor\":\"#506784\",\"showland\":true,\"showlakes\":true,\"lakecolor\":\"rgb(17,17,17)\"},\"title\":{\"x\":0.05},\"updatemenudefaults\":{\"bgcolor\":\"#506784\",\"borderwidth\":0},\"sliderdefaults\":{\"bgcolor\":\"#C8D4E3\",\"borderwidth\":1,\"bordercolor\":\"rgb(17,17,17)\",\"tickwidth\":0},\"mapbox\":{\"style\":\"dark\"}}},\"geo\":{\"domain\":{\"x\":[0.0,1.0],\"y\":[0.0,1.0]},\"center\":{},\"projection\":{\"type\":\"natural earth\"},\"showcoastlines\":true},\"coloraxis\":{\"colorbar\":{\"title\":{\"text\":\"Average Salary\"}},\"colorscale\":[[0.0,\"#0d0887\"],[0.1111111111111111,\"#46039f\"],[0.2222222222222222,\"#7201a8\"],[0.3333333333333333,\"#9c179e\"],[0.4444444444444444,\"#bd3786\"],[0.5555555555555556,\"#d8576b\"],[0.6666666666666666,\"#ed7953\"],[0.7777777777777778,\"#fb9f3a\"],[0.8888888888888888,\"#fdca26\"],[1.0,\"#f0f921\"]]},\"legend\":{\"tracegroupgap\":0},\"margin\":{\"t\":60},\"title\":{\"text\":\"World Map - Average Salary\"}},                        {\"responsive\": true}                    ).then(function(){\n                            \nvar gd = document.getElementById('58a8445a-a3d0-4825-bdb6-a47cb3b717c3');\nvar x = new MutationObserver(function (mutations, observer) {{\n        var display = window.getComputedStyle(gd).display;\n        if (!display || display === 'none') {{\n            console.log([gd, 'removed!']);\n            Plotly.purge(gd);\n            observer.disconnect();\n        }}\n}});\n\n// Listen for the removal of the full notebook cells\nvar notebookContainer = gd.closest('#notebook-container');\nif (notebookContainer) {{\n    x.observe(notebookContainer, {childList: true});\n}}\n\n// Listen for the clearing of the current output cell\nvar outputEl = gd.closest('.output');\nif (outputEl) {{\n    x.observe(outputEl, {childList: true});\n}}\n\n                        })                };                });            </script>        </div>"
     },
     "metadata": {},
     "output_type": "display_data"
    }
   ],
   "source": [
    "\n",
    "fig = px.choropleth(df.groupby('iso_3_employ_residence')['salary_in_usd'].mean().reset_index(name='Average Salary'), \n",
    "                    locations='iso_3_employ_residence',\n",
    "                    locationmode='ISO-3',\n",
    "                    color= 'Average Salary',\n",
    "                    hover_name='iso_3_employ_residence',\n",
    "                    color_continuous_scale='plasma')\n",
    "fig.update_geos(projection_type=\"natural earth\", showcoastlines=True)\n",
    "fig.update_layout(title_text='World Map - Average Salary')\n",
    "fig.show()"
   ]
  },
  {
   "cell_type": "markdown",
   "source": [
    "<strong>Plotting a Correlation matrix</strong>"
   ],
   "metadata": {
    "collapsed": false
   },
   "id": "b0790cd219830b9c"
  },
  {
   "cell_type": "code",
   "execution_count": 142,
   "outputs": [
    {
     "data": {
      "text/plain": "<Figure size 1000x800 with 2 Axes>",
      "image/png": "[encoded data removed]"
     },
     "metadata": {},
     "output_type": "display_data"
    }
   ],
   "source": [
    "num_features = ['work_year','salary','salary_in_usd','remote_ratio']\n",
    "correlation_matrix = df[num_features].corr()\n",
    "plt.figure(figsize=(10,8))\n",
    "sns.heatmap(correlation_matrix, annot=True,cmap='coolwarm',fmt='.2f')\n",
    "plt.title('Correlation Matrix of dataset')\n",
    "plt.show()"
   ],
   "metadata": {
    "collapsed": false,
    "ExecuteTime": {
     "end_time": "2024-04-28T19:34:45.451192100Z",
     "start_time": "2024-04-28T19:34:45.250687Z"
    }
   },
   "id": "7442ee14b80df69d"
  },
  {
   "cell_type": "markdown",
   "id": "42c0431f",
   "metadata": {},
   "source": [
    "-----------------EDA Ends Here--------------------\n"
   ]
  },
  {
   "cell_type": "markdown",
   "id": "9379ba0f",
   "metadata": {},
   "source": [
    "## 4. Preparing the Data for Machine Learning Algorithms"
   ]
  },
  {
   "cell_type": "markdown",
   "id": "3be83a02",
   "metadata": {},
   "source": [
    "<strong>Checking for Duplicates</strong>"
   ]
  },
  {
   "cell_type": "code",
   "execution_count": 143,
   "id": "93a3d9ff",
   "metadata": {
    "ExecuteTime": {
     "end_time": "2024-04-28T19:34:45.545866400Z",
     "start_time": "2024-04-28T19:34:45.452201400Z"
    }
   },
   "outputs": [
    {
     "data": {
      "text/plain": "6615"
     },
     "execution_count": 143,
     "metadata": {},
     "output_type": "execute_result"
    }
   ],
   "source": [
    "df.duplicated().sum()"
   ]
  },
  {
   "cell_type": "code",
   "execution_count": 144,
   "id": "a23d25ec",
   "metadata": {
    "ExecuteTime": {
     "end_time": "2024-04-28T19:34:45.545866400Z",
     "start_time": "2024-04-28T19:34:45.468201300Z"
    }
   },
   "outputs": [],
   "source": [
    "df.drop_duplicates(inplace=True)"
   ]
  },
  {
   "cell_type": "code",
   "execution_count": 145,
   "outputs": [
    {
     "data": {
      "text/plain": "(10350, 12)"
     },
     "execution_count": 145,
     "metadata": {},
     "output_type": "execute_result"
    }
   ],
   "source": [
    "df.shape"
   ],
   "metadata": {
    "collapsed": false,
    "ExecuteTime": {
     "end_time": "2024-04-28T19:34:45.545866400Z",
     "start_time": "2024-04-28T19:34:45.483198600Z"
    }
   },
   "id": "15546a8a6914beae"
  },
  {
   "cell_type": "markdown",
   "source": [
    "<strong>Dropping unnecessary features</strong>"
   ],
   "metadata": {
    "collapsed": false
   },
   "id": "e19c5a62ecff8e73"
  },
  {
   "cell_type": "code",
   "execution_count": 146,
   "outputs": [
    {
     "data": {
      "text/plain": "  experience_level employment_type  salary_in_usd  remote_ratio company_size\n0               EN              FT         198600             0            M\n1               EN              FT          94300             0            M\n2               SE              FT         135800           100            M\n3               SE              FT          95100           100            M\n4               EN              FT          86900           100            M",
      "text/html": "<div>\n<style scoped>\n    .dataframe tbody tr th:only-of-type {\n        vertical-align: middle;\n    }\n\n    .dataframe tbody tr th {\n        vertical-align: top;\n    }\n\n    .dataframe thead th {\n        text-align: right;\n    }\n</style>\n<table border=\"1\" class=\"dataframe\">\n  <thead>\n    <tr style=\"text-align: right;\">\n      <th></th>\n      <th>experience_level</th>\n      <th>employment_type</th>\n      <th>salary_in_usd</th>\n      <th>remote_ratio</th>\n      <th>company_size</th>\n    </tr>\n  </thead>\n  <tbody>\n    <tr>\n      <th>0</th>\n      <td>EN</td>\n      <td>FT</td>\n      <td>198600</td>\n      <td>0</td>\n      <td>M</td>\n    </tr>\n    <tr>\n      <th>1</th>\n      <td>EN</td>\n      <td>FT</td>\n      <td>94300</td>\n      <td>0</td>\n      <td>M</td>\n    </tr>\n    <tr>\n      <th>2</th>\n      <td>SE</td>\n      <td>FT</td>\n      <td>135800</td>\n      <td>100</td>\n      <td>M</td>\n    </tr>\n    <tr>\n      <th>3</th>\n      <td>SE</td>\n      <td>FT</td>\n      <td>95100</td>\n      <td>100</td>\n      <td>M</td>\n    </tr>\n    <tr>\n      <th>4</th>\n      <td>EN</td>\n      <td>FT</td>\n      <td>86900</td>\n      <td>100</td>\n      <td>M</td>\n    </tr>\n  </tbody>\n</table>\n</div>"
     },
     "execution_count": 146,
     "metadata": {},
     "output_type": "execute_result"
    }
   ],
   "source": [
    "# dropping columns based on correlation matrix and intuition\n",
    "columns_to_drop = ['work_year','job_title','salary','salary_currency','employee_residence','company_location','iso_3_employ_residence']\n",
    "df_tmp = df.drop(columns=columns_to_drop)\n",
    "df_tmp.head()"
   ],
   "metadata": {
    "collapsed": false,
    "ExecuteTime": {
     "end_time": "2024-04-28T19:34:45.545866400Z",
     "start_time": "2024-04-28T19:34:45.499023200Z"
    }
   },
   "id": "a58bd767e24d0497"
  },
  {
   "cell_type": "markdown",
   "source": [
    "<strong>Converting `remote_ratio` to String from Int64</strong> "
   ],
   "metadata": {
    "collapsed": false
   },
   "id": "b85603355f8a722f"
  },
  {
   "cell_type": "code",
   "execution_count": 147,
   "outputs": [
    {
     "data": {
      "text/plain": "dtype('O')"
     },
     "execution_count": 147,
     "metadata": {},
     "output_type": "execute_result"
    }
   ],
   "source": [
    "df_tmp['remote_ratio'] = df_tmp['remote_ratio'].astype(str)\n",
    "df_tmp.remote_ratio.dtype"
   ],
   "metadata": {
    "collapsed": false,
    "ExecuteTime": {
     "end_time": "2024-04-28T19:34:45.545866400Z",
     "start_time": "2024-04-28T19:34:45.514646400Z"
    }
   },
   "id": "edcf9a8afa8e318f"
  },
  {
   "cell_type": "markdown",
   "source": [
    "<strong>Checking for Missing values </strong>"
   ],
   "metadata": {
    "collapsed": false
   },
   "id": "dec4ff8ba3dceaf"
  },
  {
   "cell_type": "code",
   "execution_count": 148,
   "outputs": [
    {
     "data": {
      "text/plain": "experience_level    0\nemployment_type     0\nsalary_in_usd       0\nremote_ratio        0\ncompany_size        0\ndtype: int64"
     },
     "execution_count": 148,
     "metadata": {},
     "output_type": "execute_result"
    }
   ],
   "source": [
    "df_tmp.isna().sum()"
   ],
   "metadata": {
    "collapsed": false,
    "ExecuteTime": {
     "end_time": "2024-04-28T19:34:45.549398900Z",
     "start_time": "2024-04-28T19:34:45.530241900Z"
    }
   },
   "id": "761dde1a29218f3d"
  },
  {
   "cell_type": "markdown",
   "source": [
    "<strong>Making Pipeline for future dataset</strong>\n",
    "\n",
    "- Note: Currently we don't have any missing values but this pipeline will take care \n",
    "of the new samples which might not be in clean or pre-processed state. "
   ],
   "metadata": {
    "collapsed": false
   },
   "id": "ba2e2fcb5ab448c1"
  },
  {
   "cell_type": "code",
   "execution_count": 148,
   "outputs": [],
   "source": [],
   "metadata": {
    "collapsed": false,
    "ExecuteTime": {
     "end_time": "2024-04-28T19:34:45.549398900Z",
     "start_time": "2024-04-28T19:34:45.549398900Z"
    }
   },
   "id": "40f7fca547f0696"
  }
 ],
 "metadata": {
  "kernelspec": {
   "display_name": "Python 3 (ipykernel)",
   "language": "python",
   "name": "python3"
  },
  "language_info": {
   "codemirror_mode": {
    "name": "ipython",
    "version": 3
   },
   "file_extension": ".py",
   "mimetype": "text/x-python",
   "name": "python",
   "nbconvert_exporter": "python",
   "pygments_lexer": "ipython3",
   "version": "3.10.11"
  }
 },
 "nbformat": 4,
 "nbformat_minor": 5
}
